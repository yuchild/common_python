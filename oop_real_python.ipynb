{
 "cells": [
  {
   "cell_type": "code",
   "execution_count": 1,
   "metadata": {},
   "outputs": [],
   "source": [
    "class Dog:\n",
    "    species = 'mammal' # class attribute \n",
    "    \n",
    "    def __init__(self, name, age): # instance attributes\n",
    "        self.name = name\n",
    "        self.age = age"
   ]
  },
  {
   "cell_type": "code",
   "execution_count": 2,
   "metadata": {},
   "outputs": [],
   "source": [
    "philo = Dog('Philo', 5)\n",
    "mikey = Dog('Mikey', 6)"
   ]
  },
  {
   "cell_type": "code",
   "execution_count": 3,
   "metadata": {},
   "outputs": [
    {
     "data": {
      "text/plain": [
       "'Philo'"
      ]
     },
     "execution_count": 3,
     "metadata": {},
     "output_type": "execute_result"
    }
   ],
   "source": [
    "philo.name"
   ]
  },
  {
   "cell_type": "code",
   "execution_count": 4,
   "metadata": {},
   "outputs": [
    {
     "name": "stdout",
     "output_type": "stream",
     "text": [
      "Philo is 5 and Mikey is 6\n"
     ]
    }
   ],
   "source": [
    "print(f'{philo.name} is {philo.age} and {mikey.name} is {mikey.age}')"
   ]
  },
  {
   "cell_type": "code",
   "execution_count": 5,
   "metadata": {},
   "outputs": [
    {
     "name": "stdout",
     "output_type": "stream",
     "text": [
      "Philo is a mammal\n"
     ]
    }
   ],
   "source": [
    "if philo.species == 'mammal':\n",
    "    print(f'{philo.name} is a {philo.species}')"
   ]
  },
  {
   "cell_type": "code",
   "execution_count": 6,
   "metadata": {},
   "outputs": [],
   "source": [
    "# updates\n",
    "mikey.age = 7\n",
    "philo.species = 'bird'"
   ]
  },
  {
   "cell_type": "code",
   "execution_count": 7,
   "metadata": {},
   "outputs": [
    {
     "name": "stdout",
     "output_type": "stream",
     "text": [
      "Philo is 5 and Mikey is 7\n"
     ]
    }
   ],
   "source": [
    "print(f'{philo.name} is {philo.age} and {mikey.name} is {mikey.age}')\n",
    "if philo.species == 'mammal': # nothing will print because philo is now a bird, see line 6\n",
    "    print(f'{philo.name} is a {philo.species}')"
   ]
  },
  {
   "cell_type": "code",
   "execution_count": 8,
   "metadata": {},
   "outputs": [
    {
     "name": "stdout",
     "output_type": "stream",
     "text": [
      "Mikey is a mammal\n"
     ]
    }
   ],
   "source": [
    "# notice mikey is still a mammal, philo and mikey are different classes in memory\n",
    "if mikey.species == 'mammal':\n",
    "    print(f'{mikey.name} is a {mikey.species}')"
   ]
  },
  {
   "cell_type": "code",
   "execution_count": 9,
   "metadata": {},
   "outputs": [],
   "source": [
    "class Dog:\n",
    "    species = 'mammal' # class attribute \n",
    "    \n",
    "    def __init__(self, name, age): # instance attributes\n",
    "        self.name = name\n",
    "        self.age = age\n",
    "    \n",
    "    def description(self):\n",
    "        return f'{self.name} is {self.age} years old'\n",
    "        \n",
    "    def speak(self, sound):\n",
    "        return f'{self.name} says {sound}'\n",
    "    \n",
    "    def birthday(self):\n",
    "        self.age += 1"
   ]
  },
  {
   "cell_type": "code",
   "execution_count": 10,
   "metadata": {},
   "outputs": [
    {
     "name": "stdout",
     "output_type": "stream",
     "text": [
      "Kirby is 6 years old\n",
      "Kirby says Gruff Gruff\n"
     ]
    }
   ],
   "source": [
    "kirby = Dog('Kirby', 6)\n",
    "\n",
    "print(kirby.description())\n",
    "\n",
    "print(kirby.speak('Gruff Gruff'))"
   ]
  },
  {
   "cell_type": "code",
   "execution_count": 11,
   "metadata": {},
   "outputs": [
    {
     "name": "stdout",
     "output_type": "stream",
     "text": [
      "Kirby is 7 years old\n"
     ]
    }
   ],
   "source": [
    "kirby.birthday()\n",
    "print(kirby.description())"
   ]
  },
  {
   "cell_type": "code",
   "execution_count": 23,
   "metadata": {},
   "outputs": [],
   "source": [
    "class room:\n",
    "    address = '97 Bell Ave'\n",
    "    \n",
    "    def __init__(self, kind, occupant):\n",
    "        self.kind = kind\n",
    "        self.occupant = occupant\n",
    "        self.locked = 'locked'\n",
    "    \n",
    "    def description(self):\n",
    "        print(f'{self.kind} is occupied by {self.occupant}')\n",
    "        ...\n",
    "        \n",
    "    def lock(self):\n",
    "        print(f\"{self.occupant}'s room is {self.locked}\")\n",
    "        ...\n",
    "        \n",
    "    def lock_room(self):\n",
    "        if self.locked == 'locked':\n",
    "            self.locked = 'unlocked'\n",
    "        else:\n",
    "            self.locked = 'locked'\n",
    "    "
   ]
  },
  {
   "cell_type": "code",
   "execution_count": 22,
   "metadata": {},
   "outputs": [
    {
     "name": "stdout",
     "output_type": "stream",
     "text": [
      "Shirley's room is locked\n",
      "None\n"
     ]
    }
   ],
   "source": [
    "room1 = room('bedroom', 'Shirley')\n",
    "print(room1.lock())"
   ]
  },
  {
   "cell_type": "code",
   "execution_count": 14,
   "metadata": {},
   "outputs": [
    {
     "name": "stdout",
     "output_type": "stream",
     "text": [
      "Shirley's room is unlocked\n"
     ]
    }
   ],
   "source": [
    "room1.lock_room()\n",
    "print(room1.lock())"
   ]
  },
  {
   "cell_type": "code",
   "execution_count": 15,
   "metadata": {},
   "outputs": [
    {
     "name": "stdout",
     "output_type": "stream",
     "text": [
      "Shirley's room is locked\n"
     ]
    }
   ],
   "source": [
    "room1.lock_room()\n",
    "print(room1.lock())"
   ]
  },
  {
   "cell_type": "code",
   "execution_count": null,
   "metadata": {},
   "outputs": [],
   "source": []
  }
 ],
 "metadata": {
  "kernelspec": {
   "display_name": "Python 3",
   "language": "python",
   "name": "python3"
  },
  "language_info": {
   "codemirror_mode": {
    "name": "ipython",
    "version": 3
   },
   "file_extension": ".py",
   "mimetype": "text/x-python",
   "name": "python",
   "nbconvert_exporter": "python",
   "pygments_lexer": "ipython3",
   "version": "3.8.10"
  }
 },
 "nbformat": 4,
 "nbformat_minor": 4
}
