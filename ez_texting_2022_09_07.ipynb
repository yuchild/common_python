{
 "cells": [
  {
   "cell_type": "code",
   "execution_count": 1,
   "id": "f31b3504",
   "metadata": {},
   "outputs": [
    {
     "data": {
      "text/plain": [
       "'Zed'"
      ]
     },
     "execution_count": 1,
     "metadata": {},
     "output_type": "execute_result"
    }
   ],
   "source": [
    "\"\"\"\n",
    "The person who likes watching movies the most based on the data structure below ?\n",
    "moviedata =\n",
    "{'Tom':{'Runaway Jury':4.1,'LOTR':5},\n",
    "'Zed':{'Die Hard':4,'Runaway Jury':4.6,'LOTR':4.8,'Harry Potter':4.9,'Titanic':4.5},\n",
    "'Mark':{'Die Hard':4,'Runaway Jury':4.3,'LOTR':4.6}}\n",
    "\n",
    "\"\"\"\n",
    "moviedata ={'Tom':{'Runaway Jury':4.1,'LOTR':5},\n",
    "'Zed':{'Die Hard':4,'Runaway Jury':4.6,'LOTR':4.8,'Harry Potter':4.9,'Titanic':4.5},\n",
    "'Mark':{'Die Hard':4,'Runaway Jury':4.3,'LOTR':4.6}}\n",
    "\n",
    "def most(dct):\n",
    "    most_ctn = 0\n",
    "    most_psn = ''\n",
    "    for person in dct:\n",
    "        if len(dct[person]) > most_ctn:\n",
    "            most_psn = person\n",
    "            most_ctn = len(dct[person])\n",
    "    return most_psn\n",
    "\n",
    "most(moviedata)"
   ]
  },
  {
   "cell_type": "code",
   "execution_count": 2,
   "id": "e368bef9",
   "metadata": {},
   "outputs": [
    {
     "data": {
      "text/plain": [
       "2"
      ]
     },
     "execution_count": 2,
     "metadata": {},
     "output_type": "execute_result"
    }
   ],
   "source": [
    "len({'a':1, 'b':2})"
   ]
  }
 ],
 "metadata": {
  "kernelspec": {
   "display_name": "Python 3",
   "language": "python",
   "name": "python3"
  },
  "language_info": {
   "codemirror_mode": {
    "name": "ipython",
    "version": 3
   },
   "file_extension": ".py",
   "mimetype": "text/x-python",
   "name": "python",
   "nbconvert_exporter": "python",
   "pygments_lexer": "ipython3",
   "version": "3.8.10"
  }
 },
 "nbformat": 4,
 "nbformat_minor": 5
}
