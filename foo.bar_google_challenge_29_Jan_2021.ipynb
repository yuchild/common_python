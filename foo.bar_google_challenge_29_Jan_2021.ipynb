{
 "cells": [
  {
   "cell_type": "code",
   "execution_count": 1,
   "metadata": {},
   "outputs": [
    {
     "data": {
      "text/plain": [
       "[9, 1, 1, 1]"
      ]
     },
     "execution_count": 1,
     "metadata": {},
     "output_type": "execute_result"
    }
   ],
   "source": [
    "\"\"\"\n",
    "Find Squares Down To 1\n",
    "\n",
    "-- Python cases --\n",
    "Input:\n",
    "solution.solution(15324)\n",
    "Output:\n",
    "    15129,169,25,1\n",
    "\n",
    "Input:\n",
    "solution.solution(12)\n",
    "Output:\n",
    "    9,1,1,1\n",
    "\"\"\"\n",
    "\n",
    "def solution(area):\n",
    "    ans = []\n",
    "    itr = True\n",
    "    while itr:\n",
    "        itr = False\n",
    "        next_side = int(area**0.5)\n",
    "        ans.append(next_side**2)\n",
    "        area -= next_side**2\n",
    "        if area != 0:\n",
    "            itr = True\n",
    "    return ans\n",
    "\n",
    "# Test 2:\n",
    "solution(12)"
   ]
  },
  {
   "cell_type": "code",
   "execution_count": 2,
   "metadata": {},
   "outputs": [
    {
     "data": {
      "text/plain": [
       "[15129, 169, 25, 1]"
      ]
     },
     "execution_count": 2,
     "metadata": {},
     "output_type": "execute_result"
    }
   ],
   "source": [
    "# Test 1:\n",
    "solution(15324)"
   ]
  },
  {
   "cell_type": "code",
   "execution_count": null,
   "metadata": {},
   "outputs": [],
   "source": []
  }
 ],
 "metadata": {
  "kernelspec": {
   "display_name": "Python 3",
   "language": "python",
   "name": "python3"
  },
  "language_info": {
   "codemirror_mode": {
    "name": "ipython",
    "version": 3
   },
   "file_extension": ".py",
   "mimetype": "text/x-python",
   "name": "python",
   "nbconvert_exporter": "python",
   "pygments_lexer": "ipython3",
   "version": "3.8.5"
  }
 },
 "nbformat": 4,
 "nbformat_minor": 4
}
