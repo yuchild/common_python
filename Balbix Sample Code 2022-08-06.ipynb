{
 "cells": [
  {
   "cell_type": "code",
   "execution_count": 1,
   "metadata": {},
   "outputs": [
    {
     "data": {
      "text/plain": [
       "5"
      ]
     },
     "execution_count": 1,
     "metadata": {},
     "output_type": "execute_result"
    }
   ],
   "source": [
    "'''\n",
    "SAMPLE Question: find missing integer\n",
    "\n",
    "array A = [1, 3, 6, 4, 2, 1] --> 5\n",
    "array A = [-1, -3] --> 1\n",
    "array A = [1, 2, 3] --> 4\n",
    "'''\n",
    "def missing_int(A):\n",
    "    min_A = min(A)\n",
    "    max_A = max(A)\n",
    "    int_set = {x for x in range(min_A, max_A+1)}\n",
    "    for a in A:\n",
    "        if a in int_set:\n",
    "            int_set.remove(a)\n",
    "    ans = list(int_set)\n",
    "    if len(ans) == 0:\n",
    "        return max_A + 1\n",
    "    else:\n",
    "        return ans[0] if ans[0] > 0 else 1\n",
    "\n",
    "missing_int([1, 3, 6, 4, 2, 1])"
   ]
  },
  {
   "cell_type": "code",
   "execution_count": 2,
   "metadata": {},
   "outputs": [
    {
     "data": {
      "text/plain": [
       "4"
      ]
     },
     "execution_count": 2,
     "metadata": {},
     "output_type": "execute_result"
    }
   ],
   "source": [
    "missing_int([1, 2, 3])"
   ]
  },
  {
   "cell_type": "code",
   "execution_count": 3,
   "metadata": {},
   "outputs": [
    {
     "data": {
      "text/plain": [
       "1"
      ]
     },
     "execution_count": 3,
     "metadata": {},
     "output_type": "execute_result"
    }
   ],
   "source": [
    "missing_int([-1, -3])"
   ]
  },
  {
   "cell_type": "code",
   "execution_count": 4,
   "metadata": {},
   "outputs": [
    {
     "data": {
      "text/plain": [
       "2"
      ]
     },
     "execution_count": 4,
     "metadata": {},
     "output_type": "execute_result"
    }
   ],
   "source": [
    "b = {1, 2, 3}\n",
    "b.remove(1)\n",
    "b.remove(3)\n",
    "list(b)[0]"
   ]
  },
  {
   "cell_type": "code",
   "execution_count": null,
   "metadata": {},
   "outputs": [],
   "source": []
  }
 ],
 "metadata": {
  "kernelspec": {
   "display_name": "Python 3",
   "language": "python",
   "name": "python3"
  },
  "language_info": {
   "codemirror_mode": {
    "name": "ipython",
    "version": 3
   },
   "file_extension": ".py",
   "mimetype": "text/x-python",
   "name": "python",
   "nbconvert_exporter": "python",
   "pygments_lexer": "ipython3",
   "version": "3.8.10"
  }
 },
 "nbformat": 4,
 "nbformat_minor": 4
}
