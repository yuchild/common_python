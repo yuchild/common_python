{
 "cells": [
  {
   "cell_type": "code",
   "execution_count": 2,
   "metadata": {},
   "outputs": [],
   "source": [
    "import pandas as pd\n",
    "import matplotlib.pyplot as plt\n",
    "import sklearn"
   ]
  },
  {
   "cell_type": "code",
   "execution_count": 3,
   "metadata": {},
   "outputs": [],
   "source": [
    "df_dict = {'name': ['Bobby', 'Tammy', 'Happy', 'Tommy', 'Amy']\n",
    "           , 'age': [23, 20, 21, 27, 30]\n",
    "           , 'sex': ['male', 'female', 'female', 'male', 'female']\n",
    "           , 'phone': ['iPhone', 'Android', 'iPhone', 'Android', 'iPhone']\n",
    "           , 'bill': [45, 60, 57, 38, 42]\n",
    "           , 'state': ['NY', 'CA', 'CA', 'CA', 'NY']\n",
    "          }\n",
    "\n",
    "df = pd.DataFrame(df_dict)"
   ]
  },
  {
   "cell_type": "code",
   "execution_count": 4,
   "metadata": {},
   "outputs": [
    {
     "data": {
      "text/html": [
       "<div>\n",
       "<style scoped>\n",
       "    .dataframe tbody tr th:only-of-type {\n",
       "        vertical-align: middle;\n",
       "    }\n",
       "\n",
       "    .dataframe tbody tr th {\n",
       "        vertical-align: top;\n",
       "    }\n",
       "\n",
       "    .dataframe thead th {\n",
       "        text-align: right;\n",
       "    }\n",
       "</style>\n",
       "<table border=\"1\" class=\"dataframe\">\n",
       "  <thead>\n",
       "    <tr style=\"text-align: right;\">\n",
       "      <th></th>\n",
       "      <th>name</th>\n",
       "      <th>age</th>\n",
       "      <th>sex</th>\n",
       "      <th>phone</th>\n",
       "      <th>bill</th>\n",
       "      <th>state</th>\n",
       "    </tr>\n",
       "  </thead>\n",
       "  <tbody>\n",
       "    <tr>\n",
       "      <th>0</th>\n",
       "      <td>Bobby</td>\n",
       "      <td>23</td>\n",
       "      <td>male</td>\n",
       "      <td>iPhone</td>\n",
       "      <td>45</td>\n",
       "      <td>NY</td>\n",
       "    </tr>\n",
       "    <tr>\n",
       "      <th>1</th>\n",
       "      <td>Tammy</td>\n",
       "      <td>20</td>\n",
       "      <td>female</td>\n",
       "      <td>Android</td>\n",
       "      <td>60</td>\n",
       "      <td>CA</td>\n",
       "    </tr>\n",
       "    <tr>\n",
       "      <th>2</th>\n",
       "      <td>Happy</td>\n",
       "      <td>21</td>\n",
       "      <td>female</td>\n",
       "      <td>iPhone</td>\n",
       "      <td>57</td>\n",
       "      <td>CA</td>\n",
       "    </tr>\n",
       "    <tr>\n",
       "      <th>3</th>\n",
       "      <td>Tommy</td>\n",
       "      <td>27</td>\n",
       "      <td>male</td>\n",
       "      <td>Android</td>\n",
       "      <td>38</td>\n",
       "      <td>CA</td>\n",
       "    </tr>\n",
       "    <tr>\n",
       "      <th>4</th>\n",
       "      <td>Amy</td>\n",
       "      <td>30</td>\n",
       "      <td>female</td>\n",
       "      <td>iPhone</td>\n",
       "      <td>42</td>\n",
       "      <td>NY</td>\n",
       "    </tr>\n",
       "  </tbody>\n",
       "</table>\n",
       "</div>"
      ],
      "text/plain": [
       "    name  age     sex    phone  bill state\n",
       "0  Bobby   23    male   iPhone    45    NY\n",
       "1  Tammy   20  female  Android    60    CA\n",
       "2  Happy   21  female   iPhone    57    CA\n",
       "3  Tommy   27    male  Android    38    CA\n",
       "4    Amy   30  female   iPhone    42    NY"
      ]
     },
     "execution_count": 4,
     "metadata": {},
     "output_type": "execute_result"
    }
   ],
   "source": [
    "df"
   ]
  },
  {
   "cell_type": "code",
   "execution_count": null,
   "metadata": {},
   "outputs": [],
   "source": []
  }
 ],
 "metadata": {
  "kernelspec": {
   "display_name": "Python 3",
   "language": "python",
   "name": "python3"
  },
  "language_info": {
   "codemirror_mode": {
    "name": "ipython",
    "version": 3
   },
   "file_extension": ".py",
   "mimetype": "text/x-python",
   "name": "python",
   "nbconvert_exporter": "python",
   "pygments_lexer": "ipython3",
   "version": "3.8.10"
  }
 },
 "nbformat": 4,
 "nbformat_minor": 4
}
