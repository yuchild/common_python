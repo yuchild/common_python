{
 "cells": [
  {
   "cell_type": "code",
   "execution_count": 1,
   "metadata": {},
   "outputs": [],
   "source": [
    "# source: https://www.educative.io/blog/cracking-top-facebook-coding-interview-questions#questions"
   ]
  },
  {
   "cell_type": "code",
   "execution_count": 2,
   "metadata": {},
   "outputs": [],
   "source": [
    "def move_zeros_left(lst):\n",
    "    zero_idx = []\n",
    "    num_idx = []\n",
    "    for i in range(len(lst)):\n",
    "        if lst[i] == 0:\n",
    "            zero_idx.append(i)\n",
    "        else:\n",
    "            num_idx.append(i)\n",
    "    all_idx = zero_idx + num_idx\n",
    "    return [lst[i] for i in all_idx]"
   ]
  },
  {
   "cell_type": "code",
   "execution_count": 3,
   "metadata": {},
   "outputs": [
    {
     "data": {
      "text/plain": [
       "[0, 0, 0, 1, 10, 20, 59, 63, 88]"
      ]
     },
     "execution_count": 3,
     "metadata": {},
     "output_type": "execute_result"
    }
   ],
   "source": [
    "lst = [1, 10, 20, 0, 59, 63, 0, 88, 0]\n",
    "move_zeros_left(lst)"
   ]
  },
  {
   "cell_type": "code",
   "execution_count": 4,
   "metadata": {},
   "outputs": [],
   "source": [
    "# def move_zeros_left_(lst):\n",
    "#     if len(lst) < 1:\n",
    "#         pass\n",
    "    \n",
    "#     len_lst = len(lst)\n",
    "#     write_idx = len_lst - 1\n",
    "#     read_idx = len_lst - 1\n",
    "    \n",
    "#     while (read_idx >= 0):\n",
    "#         if lst[read_idx] != 0:\n",
    "#             lst[write_idx] = lst[read_idx]\n",
    "#             write_idx -= 1\n",
    "#         read_idx -= 1\n",
    "        \n",
    "#     while (write_idx >= 0):\n",
    "#         lst[write_idx] = 0\n",
    "#         write_idx -= 0\n",
    "\n",
    "# lst = [1, 10, 20, 0, 59, 63, 0, 88, 0]\n",
    "# move_zeros_left_(lst)"
   ]
  },
  {
   "cell_type": "code",
   "execution_count": 5,
   "metadata": {},
   "outputs": [],
   "source": [
    "lst = [(1,5), (3,7), (4,6), (6,8)]"
   ]
  },
  {
   "cell_type": "code",
   "execution_count": 6,
   "metadata": {},
   "outputs": [],
   "source": [
    "def merge_intervals(lst):\n",
    "    for idx in range(len(lst)-1):\n",
    "        if lst[idx+1][1] >= lst[idx][1]:\n",
    "            right = lst[idx+1][1]\n",
    "        else: \n",
    "            right = lst[idx][1]\n",
    "    return (lst[0][0], right)"
   ]
  },
  {
   "cell_type": "code",
   "execution_count": 7,
   "metadata": {},
   "outputs": [
    {
     "data": {
      "text/plain": [
       "(1, 8)"
      ]
     },
     "execution_count": 7,
     "metadata": {},
     "output_type": "execute_result"
    }
   ],
   "source": [
    "merge_intervals(lst)"
   ]
  },
  {
   "cell_type": "code",
   "execution_count": 8,
   "metadata": {},
   "outputs": [
    {
     "data": {
      "text/plain": [
       "(10, 15)"
      ]
     },
     "execution_count": 8,
     "metadata": {},
     "output_type": "execute_result"
    }
   ],
   "source": [
    "lst = [(10, 12), (12,15)]\n",
    "merge_intervals(lst)"
   ]
  },
  {
   "cell_type": "code",
   "execution_count": 9,
   "metadata": {},
   "outputs": [],
   "source": [
    "class pair:\n",
    "    def __init__(self, left, right):\n",
    "        self.left = left\n",
    "        self.right = right\n",
    "\n",
    "def merge_intervals_(lst):\n",
    "    if lst == None or len(lst) == 0:\n",
    "        return None\n",
    "\n",
    "    result = []\n",
    "    result.append(pair(lst[0].left, lst[0].right))\n",
    "\n",
    "    for idx in range(1, len(lst)):\n",
    "\n",
    "        x1 = lst[idx].left\n",
    "        x2 = result[len(result)-1].left\n",
    "\n",
    "        y1 = lst[idx].right\n",
    "        y2 = result[len(result)-1].right\n",
    "\n",
    "        if y2 >= x1:\n",
    "            result[len(result)-1].right = max(y1, y2)\n",
    "        else:\n",
    "            result.append(pair(x1, y1))\n",
    "\n",
    "    return result"
   ]
  },
  {
   "cell_type": "code",
   "execution_count": 10,
   "metadata": {},
   "outputs": [
    {
     "data": {
      "text/plain": [
       "[(1, 8)]"
      ]
     },
     "execution_count": 10,
     "metadata": {},
     "output_type": "execute_result"
    }
   ],
   "source": [
    "lst = [pair(1, 5)\n",
    "       , pair(3, 7)\n",
    "       , pair(4, 6)\n",
    "       , pair(6, 8)       \n",
    "      ]\n",
    "\n",
    "result = merge_intervals_(lst)\n",
    "[(result[i].left, result[i].right) for i in range(len(result))]"
   ]
  },
  {
   "cell_type": "code",
   "execution_count": 11,
   "metadata": {},
   "outputs": [],
   "source": [
    "# reverse integer\n",
    "def rev(x):\n",
    "    string = str(x)\n",
    "    \n",
    "    if string[0] == '-':\n",
    "        return int('-'+string[:0:-1])\n",
    "    else:\n",
    "        return int(string[::-1])"
   ]
  },
  {
   "cell_type": "code",
   "execution_count": 12,
   "metadata": {},
   "outputs": [
    {
     "data": {
      "text/plain": [
       "321"
      ]
     },
     "execution_count": 12,
     "metadata": {},
     "output_type": "execute_result"
    }
   ],
   "source": [
    "rev(123)"
   ]
  },
  {
   "cell_type": "code",
   "execution_count": 13,
   "metadata": {},
   "outputs": [],
   "source": [
    "# Avg Words Length\n",
    "sentence1 = \"Hi all, my name is Tom...I am originally from Australia.\"\n",
    "sentence2 = \"I need to work very hard to learn more about algorithms in Python!\"\n",
    "\n",
    "def avg_words(s):\n",
    "    for punc in \"!?,;.\":\n",
    "        s = s.replace(punc, '')\n",
    "    words = s.split()\n",
    "    return round(sum(len(word) for word in words) / len(words), 2)"
   ]
  },
  {
   "cell_type": "code",
   "execution_count": 14,
   "metadata": {},
   "outputs": [
    {
     "data": {
      "text/plain": [
       "4.2"
      ]
     },
     "execution_count": 14,
     "metadata": {},
     "output_type": "execute_result"
    }
   ],
   "source": [
    "avg_words(sentence1)"
   ]
  },
  {
   "cell_type": "code",
   "execution_count": 15,
   "metadata": {},
   "outputs": [
    {
     "data": {
      "text/plain": [
       "4.08"
      ]
     },
     "execution_count": 15,
     "metadata": {},
     "output_type": "execute_result"
    }
   ],
   "source": [
    "avg_words(sentence2)"
   ]
  },
  {
   "cell_type": "code",
   "execution_count": 16,
   "metadata": {},
   "outputs": [],
   "source": [
    "# add strings\n",
    "num1 = '364'\n",
    "num2 = '1836'\n",
    "\n",
    "def add_strs(num1, num2):\n",
    "    return str(eval(num1) + eval(num2))"
   ]
  },
  {
   "cell_type": "code",
   "execution_count": 17,
   "metadata": {},
   "outputs": [
    {
     "data": {
      "text/plain": [
       "'2200'"
      ]
     },
     "execution_count": 17,
     "metadata": {},
     "output_type": "execute_result"
    }
   ],
   "source": [
    "add_strs(num1, num2)"
   ]
  },
  {
   "cell_type": "code",
   "execution_count": 18,
   "metadata": {},
   "outputs": [
    {
     "data": {
      "text/plain": [
       "2200"
      ]
     },
     "execution_count": 18,
     "metadata": {},
     "output_type": "execute_result"
    }
   ],
   "source": [
    "n1, n2 = 0, 0\n",
    "m1, m2 = 10**(len(num1)-1), 10**(len(num2)-1)\n",
    "\n",
    "for s in num1:\n",
    "    n1 += (ord(s) - ord('0')) * m1\n",
    "    m1 = m1//10\n",
    "\n",
    "for s in num2:\n",
    "    n2 += (ord(s) - ord('0')) * m2\n",
    "    m2 = m2//10\n",
    "n1+n2"
   ]
  },
  {
   "cell_type": "code",
   "execution_count": 19,
   "metadata": {},
   "outputs": [
    {
     "data": {
      "text/plain": [
       "2"
      ]
     },
     "execution_count": 19,
     "metadata": {},
     "output_type": "execute_result"
    }
   ],
   "source": [
    "ord('2') - ord('0')"
   ]
  },
  {
   "cell_type": "code",
   "execution_count": 20,
   "metadata": {},
   "outputs": [],
   "source": [
    "# find first non-repeating charater in string\n",
    "def non_rep(string):\n",
    "    freq = {}\n",
    "    for char in string:\n",
    "        if char in freq:\n",
    "            freq[char] += 1\n",
    "        else:\n",
    "            freq[char] = 1\n",
    "    for i in range(len(string)):\n",
    "        if freq[string[i]] == 1:\n",
    "            return i\n",
    "    return -1"
   ]
  },
  {
   "cell_type": "code",
   "execution_count": 21,
   "metadata": {},
   "outputs": [
    {
     "data": {
      "text/plain": [
       "(1, -1, 2)"
      ]
     },
     "execution_count": 21,
     "metadata": {},
     "output_type": "execute_result"
    }
   ],
   "source": [
    "non_rep('alphabet'), non_rep('aabbcc'), non_rep('jjklp')"
   ]
  },
  {
   "cell_type": "code",
   "execution_count": 22,
   "metadata": {},
   "outputs": [],
   "source": [
    "# pallindrome, you may delete at most one character\n",
    "string = 'radkar'\n",
    "def pal(string):\n",
    "    for i in range(len(string)):\n",
    "        t = string[:i] + string[i+1:]\n",
    "        if t == t[::-1]:\n",
    "            return True\n",
    "    return s == s[::-1]"
   ]
  },
  {
   "cell_type": "code",
   "execution_count": 23,
   "metadata": {},
   "outputs": [
    {
     "data": {
      "text/plain": [
       "True"
      ]
     },
     "execution_count": 23,
     "metadata": {},
     "output_type": "execute_result"
    }
   ],
   "source": [
    "pal(string)"
   ]
  },
  {
   "cell_type": "code",
   "execution_count": 24,
   "metadata": {},
   "outputs": [],
   "source": [
    "# Monotonic Array\n",
    "A = [6, 5, 4, 4] \n",
    "B = [1,1,1,3,3,4,3,2,4,2]\n",
    "C = [1,1,2,3,7]\n",
    "\n",
    "def mono(arr):\n",
    "    return (all(arr[i] <= arr[i+1] for i in range(len(arr)-1))\n",
    "            or\n",
    "            all(arr[i] >= arr[i+1] for i in range(len(arr)-1))\n",
    "           )\n",
    "    "
   ]
  },
  {
   "cell_type": "code",
   "execution_count": 25,
   "metadata": {},
   "outputs": [
    {
     "data": {
      "text/plain": [
       "(True, False, True)"
      ]
     },
     "execution_count": 25,
     "metadata": {},
     "output_type": "execute_result"
    }
   ],
   "source": [
    "mono(A), mono(B), mono(C)"
   ]
  },
  {
   "cell_type": "code",
   "execution_count": 26,
   "metadata": {},
   "outputs": [],
   "source": [
    "# Move zeros right\n",
    "arr1 = [0,1,0,3,12]\n",
    "arr2 = [1,7,0,0,8,0,10,12,0,4]\n",
    "\n",
    "def move_right(arr):\n",
    "    for _ in arr:\n",
    "        if 0 in arr:\n",
    "            arr.remove(0)\n",
    "            arr.append(0)\n",
    "    return arr"
   ]
  },
  {
   "cell_type": "code",
   "execution_count": 27,
   "metadata": {},
   "outputs": [
    {
     "data": {
      "text/plain": [
       "([1, 3, 12, 0, 0], [1, 7, 8, 10, 12, 4, 0, 0, 0, 0])"
      ]
     },
     "execution_count": 27,
     "metadata": {},
     "output_type": "execute_result"
    }
   ],
   "source": [
    "move_right(arr1), move_right(arr2)"
   ]
  },
  {
   "cell_type": "code",
   "execution_count": 28,
   "metadata": {},
   "outputs": [
    {
     "data": {
      "text/plain": [
       "([0, 0, 1, 3, 12], [0, 0, 0, 0, 1, 7, 8, 10, 12, 4])"
      ]
     },
     "execution_count": 28,
     "metadata": {},
     "output_type": "execute_result"
    }
   ],
   "source": [
    "# Move zeros left\n",
    "arr1 = [0,1,0,3,12]\n",
    "arr2 = [1,7,0,0,8,0,10,12,0,4]\n",
    "\n",
    "def move_left(arr):\n",
    "    ctn = 0\n",
    "    for _ in arr:\n",
    "        if 0 in arr:\n",
    "            arr.remove(0)\n",
    "            ctn += 1\n",
    "    return [0 for _ in range(ctn)] + arr\n",
    "move_left(arr1), move_left(arr2)"
   ]
  },
  {
   "cell_type": "code",
   "execution_count": 29,
   "metadata": {},
   "outputs": [
    {
     "data": {
      "text/plain": [
       "[1, 1, 2, 3, 3, 3, 5, 5]"
      ]
     },
     "execution_count": 29,
     "metadata": {},
     "output_type": "execute_result"
    }
   ],
   "source": [
    "# Given an array containing None values fill in the None values with most recent \n",
    "# non None value in the array \n",
    "\n",
    "array1 = [1,None,2,3,None,None,5,None]\n",
    "\n",
    "def fill_blanks(arr):\n",
    "    curr_e = 0\n",
    "    ans = []\n",
    "    for e in arr:\n",
    "        if e is not None:\n",
    "            ans.append(e)\n",
    "            curr_e = e\n",
    "        else:\n",
    "            ans.append(curr_e)\n",
    "    return ans\n",
    "fill_blanks(array1)"
   ]
  },
  {
   "cell_type": "code",
   "execution_count": 30,
   "metadata": {},
   "outputs": [
    {
     "data": {
      "text/plain": [
       "(['The',\n",
       "  'We',\n",
       "  'a',\n",
       "  'are',\n",
       "  'by',\n",
       "  'heavy',\n",
       "  'hit',\n",
       "  'in',\n",
       "  'meet',\n",
       "  'our',\n",
       "  'pleased',\n",
       "  'storm',\n",
       "  'to',\n",
       "  'was',\n",
       "  'you'],\n",
       " ['city', 'really'])"
      ]
     },
     "execution_count": 30,
     "metadata": {},
     "output_type": "execute_result"
    }
   ],
   "source": [
    "#Given two sentences, return an array that has the words that appear in one sentence and not\n",
    "#the other and an array with the words in common. \n",
    "\n",
    "sentence1 = 'We are really pleased to meet you in our city'\n",
    "sentence2 = 'The city was hit by a really heavy storm'\n",
    "\n",
    "def not_common(sentence1, sentence2):\n",
    "    set1 = set(sentence1.split())\n",
    "    set2 = set(sentence2.split())\n",
    "    return sorted(list(set1^set2)), sorted(list(set1&set2))\n",
    "not_common(sentence1, sentence2)"
   ]
  },
  {
   "cell_type": "code",
   "execution_count": 31,
   "metadata": {},
   "outputs": [
    {
     "name": "stdout",
     "output_type": "stream",
     "text": [
      "no\n",
      "yes\n",
      "no\n"
     ]
    }
   ],
   "source": [
    "# prime numbers array of up to a number\n",
    "n = 5\n",
    "def prime(n):\n",
    "    ans = [2]\n",
    "    for num in range(1, n+1):\n",
    "        for i in range(2, num):\n",
    "            if (num % i) == 0:\n",
    "                print('yes')\n",
    "                break\n",
    "            else:\n",
    "                # ans.append(num)\n",
    "                print('no')\n",
    "                break\n",
    "    #return ans\n",
    "\n",
    "prime(n)"
   ]
  },
  {
   "cell_type": "code",
   "execution_count": 32,
   "metadata": {},
   "outputs": [
    {
     "data": {
      "text/plain": [
       "[2, 3, 5, 7, 9, 11, 13]"
      ]
     },
     "execution_count": 32,
     "metadata": {},
     "output_type": "execute_result"
    }
   ],
   "source": [
    "n = 15\n",
    "ans = [2]\n",
    "for num in range(1, n):\n",
    "    for div in range(2, num):\n",
    "        if (num % div) == 0:\n",
    "            break\n",
    "        else:\n",
    "            ans.append(num)\n",
    "            break\n",
    "ans"
   ]
  },
  {
   "cell_type": "code",
   "execution_count": null,
   "metadata": {},
   "outputs": [],
   "source": []
  },
  {
   "cell_type": "code",
   "execution_count": null,
   "metadata": {},
   "outputs": [],
   "source": []
  },
  {
   "cell_type": "code",
   "execution_count": 33,
   "metadata": {},
   "outputs": [
    {
     "data": {
      "text/plain": [
       "[1, 1, 2, 3, 5, 8, 13, 21, 34, 55]"
      ]
     },
     "execution_count": 33,
     "metadata": {},
     "output_type": "execute_result"
    }
   ],
   "source": [
    "def fib(n):\n",
    "    if n < 0:\n",
    "        print('Input n >= 0')\n",
    "    elif n == 0:\n",
    "        return 0\n",
    "    elif n == 1:\n",
    "        return 1\n",
    "    else:\n",
    "        return fib(n-1) + fib(n-2)\n",
    "\n",
    "[fib(i) for i in range(1,11)]"
   ]
  },
  {
   "cell_type": "code",
   "execution_count": 34,
   "metadata": {},
   "outputs": [
    {
     "data": {
      "text/plain": [
       "0"
      ]
     },
     "execution_count": 34,
     "metadata": {},
     "output_type": "execute_result"
    }
   ],
   "source": [
    "fib(0)"
   ]
  },
  {
   "cell_type": "code",
   "execution_count": 35,
   "metadata": {},
   "outputs": [],
   "source": [
    "def fib(n):\n",
    "    if n <= 0:\n",
    "        print('n >= 0')\n",
    "    elif n == 1:\n",
    "        return 1\n",
    "    elif n == 2:\n",
    "        return 1\n",
    "    else:\n",
    "        return fib(n-1) + fib(n-2)"
   ]
  },
  {
   "cell_type": "code",
   "execution_count": 36,
   "metadata": {},
   "outputs": [
    {
     "data": {
      "text/plain": [
       "(1, 1, 2)"
      ]
     },
     "execution_count": 36,
     "metadata": {},
     "output_type": "execute_result"
    }
   ],
   "source": [
    "fib(1), fib(2), fib(3)"
   ]
  },
  {
   "cell_type": "code",
   "execution_count": 37,
   "metadata": {},
   "outputs": [],
   "source": [
    "def check_prime(num):\n",
    "    if (num == 2) or (num == 3):\n",
    "        return 'prime'\n",
    "    elif num < 2:\n",
    "        return 'not prime'\n",
    "    else:\n",
    "        for div in range(2, num):\n",
    "            lst = []\n",
    "            if (num % div) == 0:\n",
    "                lst.append(1)\n",
    "            else:\n",
    "                lst.append(0)\n",
    "            \n",
    "            if 1 in lst:\n",
    "                return 'not prime'"
   ]
  },
  {
   "cell_type": "code",
   "execution_count": 38,
   "metadata": {},
   "outputs": [
    {
     "data": {
      "text/plain": [
       "['1, not prime',\n",
       " '2, prime',\n",
       " '3, prime',\n",
       " '4, not prime',\n",
       " '5, None',\n",
       " '6, not prime',\n",
       " '7, None',\n",
       " '8, not prime',\n",
       " '9, not prime',\n",
       " '10, not prime']"
      ]
     },
     "execution_count": 38,
     "metadata": {},
     "output_type": "execute_result"
    }
   ],
   "source": [
    "[f'{x}, {check_prime(x)}' for x in range(1, 11)]"
   ]
  },
  {
   "cell_type": "code",
   "execution_count": 39,
   "metadata": {},
   "outputs": [
    {
     "name": "stdout",
     "output_type": "stream",
     "text": [
      "no\n",
      "yes\n",
      "no\n",
      "no\n",
      "no\n",
      "no\n",
      "no\n"
     ]
    }
   ],
   "source": [
    "for div in range(2, 9):\n",
    "    if (9 % div) == 0:\n",
    "        print('yes')\n",
    "    else:\n",
    "        print('no')"
   ]
  },
  {
   "cell_type": "code",
   "execution_count": 40,
   "metadata": {},
   "outputs": [
    {
     "data": {
      "text/plain": [
       "['Nth: 1, Fib: 1',\n",
       " 'Nth: 2, Fib: 1',\n",
       " 'Nth: 3, Fib: 2',\n",
       " 'Nth: 4, Fib: 3',\n",
       " 'Nth: 5, Fib: 5',\n",
       " 'Nth: 6, Fib: 8',\n",
       " 'Nth: 7, Fib: 13',\n",
       " 'Nth: 8, Fib: 21',\n",
       " 'Nth: 9, Fib: 34',\n",
       " 'Nth: 10, Fib: 55']"
      ]
     },
     "execution_count": 40,
     "metadata": {},
     "output_type": "execute_result"
    }
   ],
   "source": [
    "def fib(n):\n",
    "    if n <= 0:\n",
    "        print('n >= 0')\n",
    "    elif n == 1:\n",
    "        return 1\n",
    "    elif n == 2:\n",
    "        return 1\n",
    "    else:\n",
    "        return fib(n-1) + fib(n-2)\n",
    "    \n",
    "[f'Nth: {x}, Fib: {fib(x)}' for x in range(1, 11)]"
   ]
  },
  {
   "cell_type": "code",
   "execution_count": 41,
   "metadata": {},
   "outputs": [],
   "source": [
    "def check_prime(num):\n",
    "    if (num == 2) or (num == 3):\n",
    "        return 'prime'\n",
    "    elif num < 2:\n",
    "        return 'not prime'\n",
    "    else:\n",
    "        mod_lst = []\n",
    "        for div in range(2, num):\n",
    "            if (num % div) == 0:\n",
    "                mod_lst.append(1)\n",
    "            else:\n",
    "                mod_lst.append(0)\n",
    "        if 1 in mod_lst:\n",
    "            return 'not prime'\n",
    "        else:\n",
    "            return 'prime'"
   ]
  },
  {
   "cell_type": "code",
   "execution_count": 42,
   "metadata": {},
   "outputs": [
    {
     "data": {
      "text/plain": [
       "'prime'"
      ]
     },
     "execution_count": 42,
     "metadata": {},
     "output_type": "execute_result"
    }
   ],
   "source": [
    "check_prime(5)"
   ]
  },
  {
   "cell_type": "code",
   "execution_count": 43,
   "metadata": {},
   "outputs": [
    {
     "data": {
      "text/plain": [
       "'not prime'"
      ]
     },
     "execution_count": 43,
     "metadata": {},
     "output_type": "execute_result"
    }
   ],
   "source": [
    "check_prime(9)"
   ]
  },
  {
   "cell_type": "code",
   "execution_count": 44,
   "metadata": {},
   "outputs": [
    {
     "data": {
      "text/plain": [
       "['1, not prime',\n",
       " '2, prime',\n",
       " '3, prime',\n",
       " '4, not prime',\n",
       " '5, prime',\n",
       " '6, not prime',\n",
       " '7, prime',\n",
       " '8, not prime',\n",
       " '9, not prime',\n",
       " '10, not prime']"
      ]
     },
     "execution_count": 44,
     "metadata": {},
     "output_type": "execute_result"
    }
   ],
   "source": [
    "[f'{x}, {check_prime(x)}' for x in range(1,11)]"
   ]
  },
  {
   "cell_type": "code",
   "execution_count": 45,
   "metadata": {},
   "outputs": [],
   "source": [
    "arr = [1, -5, 6, 3]\n",
    "def bubble(arr):\n",
    "    swap = True\n",
    "    while swap:\n",
    "        swap = False\n",
    "        for i in range(len(arr) - 1):\n",
    "            if arr[i] > arr[i+1]:\n",
    "                arr[i], arr[i+1] = arr[i+1], arr[i]\n",
    "                swap = True"
   ]
  },
  {
   "cell_type": "code",
   "execution_count": 46,
   "metadata": {},
   "outputs": [],
   "source": [
    " bubble(arr)"
   ]
  },
  {
   "cell_type": "code",
   "execution_count": 47,
   "metadata": {},
   "outputs": [
    {
     "data": {
      "text/plain": [
       "[-5, 1, 3, 6]"
      ]
     },
     "execution_count": 47,
     "metadata": {},
     "output_type": "execute_result"
    }
   ],
   "source": [
    "arr"
   ]
  },
  {
   "cell_type": "code",
   "execution_count": 48,
   "metadata": {},
   "outputs": [],
   "source": [
    "def bubble_sort(nums):\n",
    "    # We set swapped to True so the loop looks runs at least once\n",
    "    swapped = True\n",
    "    while swapped:\n",
    "        swapped = False\n",
    "        for i in range(len(nums) - 1):\n",
    "            if nums[i] > nums[i + 1]:\n",
    "                # Swap the elements\n",
    "                nums[i], nums[i + 1] = nums[i + 1], nums[i]\n",
    "                # Set the flag to True so we'll loop again\n",
    "                swapped = True"
   ]
  },
  {
   "cell_type": "code",
   "execution_count": 49,
   "metadata": {},
   "outputs": [],
   "source": [
    "bubble_sort(arr)"
   ]
  },
  {
   "cell_type": "code",
   "execution_count": 50,
   "metadata": {},
   "outputs": [
    {
     "data": {
      "text/plain": [
       "[-5, 1, 3, 6]"
      ]
     },
     "execution_count": 50,
     "metadata": {},
     "output_type": "execute_result"
    }
   ],
   "source": [
    "arr"
   ]
  },
  {
   "cell_type": "code",
   "execution_count": 51,
   "metadata": {},
   "outputs": [
    {
     "data": {
      "text/plain": [
       "3"
      ]
     },
     "execution_count": 51,
     "metadata": {},
     "output_type": "execute_result"
    }
   ],
   "source": [
    "str1 = 'abcabcabck'\n",
    "str2 = 'abc'\n",
    "ctn = 0\n",
    "for i in range(len(str1)):\n",
    "    if str1[i:i+3] == str2:\n",
    "        ctn += 1\n",
    "ctn"
   ]
  },
  {
   "cell_type": "code",
   "execution_count": null,
   "metadata": {},
   "outputs": [],
   "source": []
  }
 ],
 "metadata": {
  "kernelspec": {
   "display_name": "Python 3",
   "language": "python",
   "name": "python3"
  },
  "language_info": {
   "codemirror_mode": {
    "name": "ipython",
    "version": 3
   },
   "file_extension": ".py",
   "mimetype": "text/x-python",
   "name": "python",
   "nbconvert_exporter": "python",
   "pygments_lexer": "ipython3",
   "version": "3.8.5"
  }
 },
 "nbformat": 4,
 "nbformat_minor": 4
}
