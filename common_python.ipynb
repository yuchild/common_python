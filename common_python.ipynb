{
 "cells": [
  {
   "cell_type": "markdown",
   "metadata": {},
   "source": [
    "# source: https://www.educative.io/blog/cracking-top-facebook-coding-interview-questions#questions"
   ]
  },
  {
   "cell_type": "code",
   "execution_count": 1,
   "metadata": {},
   "outputs": [],
   "source": [
    "def move_zeros_left(lst):\n",
    "    zero_idx = []\n",
    "    num_idx = []\n",
    "    for i in range(len(lst)):\n",
    "        if lst[i] == 0:\n",
    "            zero_idx.append(i)\n",
    "        else:\n",
    "            num_idx.append(i)\n",
    "    all_idx = zero_idx + num_idx\n",
    "    return [lst[i] for i in all_idx]"
   ]
  },
  {
   "cell_type": "code",
   "execution_count": 2,
   "metadata": {},
   "outputs": [
    {
     "data": {
      "text/plain": [
       "[0, 0, 0, 1, 10, 20, 59, 63, 88]"
      ]
     },
     "execution_count": 2,
     "metadata": {},
     "output_type": "execute_result"
    }
   ],
   "source": [
    "lst = [1, 10, 20, 0, 59, 63, 0, 88, 0]\n",
    "move_zeros_left(lst)"
   ]
  },
  {
   "cell_type": "code",
   "execution_count": 3,
   "metadata": {},
   "outputs": [
    {
     "data": {
      "text/plain": [
       "[0, 0, 0, 0, 9, 3, 5, 11]"
      ]
     },
     "execution_count": 3,
     "metadata": {},
     "output_type": "execute_result"
    }
   ],
   "source": [
    "def move_zeros_left(lst):\n",
    "    zero_idx = []\n",
    "    num_idx = []\n",
    "    for idx in range(len(lst)):\n",
    "        if lst[idx] == 0:\n",
    "            zero_idx.append(idx)\n",
    "        else:\n",
    "            num_idx.append(idx)\n",
    "    all_idx = zero_idx + num_idx\n",
    "    return [lst[i] for i in all_idx]\n",
    "\n",
    "move_zeros_left([0, 9, 0, 3, 5, 0, 0, 11])"
   ]
  },
  {
   "cell_type": "code",
   "execution_count": 4,
   "metadata": {},
   "outputs": [
    {
     "data": {
      "text/plain": [
       "[1, 3, 11, 0, 0, 0, 0]"
      ]
     },
     "execution_count": 4,
     "metadata": {},
     "output_type": "execute_result"
    }
   ],
   "source": [
    "def move_zeros_right(lst):\n",
    "    zero_idx = []\n",
    "    num_idx = []\n",
    "    for i in range(len(lst)):\n",
    "        if lst[i] == 0:\n",
    "            zero_idx.append(i)\n",
    "        else:\n",
    "            num_idx.append(i)\n",
    "    all_idx = num_idx + zero_idx\n",
    "    return [lst[i] for i in all_idx]\n",
    "\n",
    "move_zeros_right([0, 1, 0, 3, 0, 0, 11])"
   ]
  },
  {
   "cell_type": "code",
   "execution_count": 5,
   "metadata": {},
   "outputs": [
    {
     "data": {
      "text/plain": [
       "[-1, 1, 3]"
      ]
     },
     "execution_count": 5,
     "metadata": {},
     "output_type": "execute_result"
    }
   ],
   "source": [
    "def bubble_sort(lst):\n",
    "    swapped = True\n",
    "    while swapped:\n",
    "        swapped = False\n",
    "        for i in range(len(lst)-1):\n",
    "            if lst[i] > lst[i+1]:\n",
    "                lst[i], lst[i+1] = lst[i+1], lst[i]\n",
    "                swapped = True\n",
    "    return lst\n",
    "bubble_sort([1, -1, 3])"
   ]
  },
  {
   "cell_type": "code",
   "execution_count": 6,
   "metadata": {},
   "outputs": [
    {
     "name": "stdout",
     "output_type": "stream",
     "text": [
      "[0, 0, 0, 0, -4, -3, 1, 7]\n",
      "[-4, -3, 1, 7, 0, 0, 0, 0]\n"
     ]
    }
   ],
   "source": [
    "def zeros_lr_num_sorted(lst, zeros_position = 'left'):\n",
    "    swapped = True\n",
    "    while swapped:\n",
    "        swapped = False\n",
    "        for i in range(len(lst)-1):\n",
    "            if lst[i] > lst[i+1]:\n",
    "                lst[i], lst[i+1] = lst[i+1], lst[i]\n",
    "                swapped = True\n",
    "    zero_idx = []\n",
    "    num_idx = []\n",
    "    for i in range(len(lst)):\n",
    "        if lst[i] == 0:\n",
    "            zero_idx.append(i)\n",
    "        else:\n",
    "            num_idx.append(i)\n",
    "    if zeros_position == 'left':\n",
    "        return [lst[i] for i in (zero_idx + num_idx)]\n",
    "    else:\n",
    "        return [lst[i] for i in (num_idx + zero_idx)]\n",
    "\n",
    "print(zeros_lr_num_sorted([0, 1, 0, -3, -4, 7, 0, 0], zeros_position = 'left'))\n",
    "print(zeros_lr_num_sorted([0, 1, 0, -3, -4, 7, 0, 0], zeros_position = 'right'))"
   ]
  },
  {
   "cell_type": "code",
   "execution_count": null,
   "metadata": {},
   "outputs": [],
   "source": []
  },
  {
   "cell_type": "code",
   "execution_count": 7,
   "metadata": {},
   "outputs": [],
   "source": [
    "def move_zeros_left(lst):\n",
    "    zero_idx = []\n",
    "    num_idx = []\n",
    "    for i in range(len(lst)):\n",
    "        if lst[i] == 0:\n",
    "            zero_idx.append(i)\n",
    "        else:\n",
    "            num_idx.append(i)\n",
    "    all_idx = zero_idx + num_idx\n",
    "    return [lst[i] for i in all_idx]"
   ]
  },
  {
   "cell_type": "code",
   "execution_count": 8,
   "metadata": {},
   "outputs": [
    {
     "data": {
      "text/plain": [
       "[0, 0, 0, 0, 0, 1, 2, 3, 5]"
      ]
     },
     "execution_count": 8,
     "metadata": {},
     "output_type": "execute_result"
    }
   ],
   "source": [
    "move_zeros_left([0, 1, 0, 2, 3, 0, 5, 0, 0])"
   ]
  },
  {
   "cell_type": "code",
   "execution_count": 9,
   "metadata": {},
   "outputs": [],
   "source": [
    "def move_zeros_right(lst):\n",
    "    zeros_idx = []\n",
    "    nums_idx = []\n",
    "    for i in range(len(lst)):\n",
    "        if lst[i] == 0:\n",
    "            zeros_idx.append(i)\n",
    "        else:\n",
    "            nums_idx.append(i)\n",
    "    all_idx = nums_idx + zeros_idx\n",
    "    return [lst[i] for i in all_idx]"
   ]
  },
  {
   "cell_type": "code",
   "execution_count": 10,
   "metadata": {},
   "outputs": [
    {
     "data": {
      "text/plain": [
       "[1, 2, 3, 5, 0, 0, 0, 0, 0]"
      ]
     },
     "execution_count": 10,
     "metadata": {},
     "output_type": "execute_result"
    }
   ],
   "source": [
    "move_zeros_right([0, 1, 0, 2, 3, 0, 5, 0, 0])"
   ]
  },
  {
   "cell_type": "code",
   "execution_count": 11,
   "metadata": {},
   "outputs": [],
   "source": [
    "lst = [(1,5), (3,7), (4,6), (6,8)]"
   ]
  },
  {
   "cell_type": "code",
   "execution_count": 12,
   "metadata": {},
   "outputs": [],
   "source": [
    "def merge_intervals(lst):\n",
    "    for idx in range(len(lst)-1):\n",
    "        if lst[idx+1][1] >= lst[idx][1]:\n",
    "            right = lst[idx+1][1]\n",
    "        else: \n",
    "            right = lst[idx][1]\n",
    "    return (lst[0][0], right)"
   ]
  },
  {
   "cell_type": "code",
   "execution_count": 13,
   "metadata": {},
   "outputs": [
    {
     "data": {
      "text/plain": [
       "(1, 8)"
      ]
     },
     "execution_count": 13,
     "metadata": {},
     "output_type": "execute_result"
    }
   ],
   "source": [
    "merge_intervals(lst)"
   ]
  },
  {
   "cell_type": "code",
   "execution_count": 14,
   "metadata": {},
   "outputs": [],
   "source": [
    "def merge_intervals(lst):\n",
    "    for idx in range(len(lst)-1):\n",
    "        if lst[idx+1][1] >= lst[idx][1]:\n",
    "            right = lst[idx+1][1]\n",
    "        else:\n",
    "            right = lst[idx][1]\n",
    "    return (lst[0][0], right)"
   ]
  },
  {
   "cell_type": "code",
   "execution_count": 15,
   "metadata": {},
   "outputs": [
    {
     "data": {
      "text/plain": [
       "(1, 8)"
      ]
     },
     "execution_count": 15,
     "metadata": {},
     "output_type": "execute_result"
    }
   ],
   "source": [
    "merge_intervals(lst)"
   ]
  },
  {
   "cell_type": "code",
   "execution_count": 16,
   "metadata": {},
   "outputs": [
    {
     "data": {
      "text/plain": [
       "(10, 15)"
      ]
     },
     "execution_count": 16,
     "metadata": {},
     "output_type": "execute_result"
    }
   ],
   "source": [
    "lst = [(10, 12), (12,15)]\n",
    "merge_intervals(lst)"
   ]
  },
  {
   "cell_type": "code",
   "execution_count": 17,
   "metadata": {},
   "outputs": [
    {
     "name": "stdout",
     "output_type": "stream",
     "text": [
      "[[1, 9], [10, 11], [12, 21]]\n"
     ]
    }
   ],
   "source": [
    "arr = [[1, 5], [3, 9], [10, 11], [12, 15], [15, 18], [17, 21]]\n",
    "\n",
    "left = arr[0][0]\n",
    "right = arr[0][1]\n",
    "\n",
    "ans = []\n",
    "\n",
    "\n",
    "#1. check curr_right >= left_next\n",
    "#   if so, assign curr_right as next_right\n",
    "#   if not append curr_left and curr_right\n",
    "\n",
    "\n",
    "\n",
    "for i in range(len(arr) - 1):\n",
    "    if arr[i][1] >= arr[i+1][0]:\n",
    "        right = arr[i+1][1]\n",
    "    else:\n",
    "        ans.append([left, right])\n",
    "        left = arr[i+1][0]\n",
    "        right = arr[i+1][1]\n",
    "\n",
    "# if (left == arr[-1][0]) and (right == arr[-1][1]):\n",
    "#     ans.append([left, right])\n",
    "\n",
    "# if (left == arr[0][0]) and (right == arr[-1][1]):\n",
    "#     ans.append([left, right])\n",
    "    \n",
    "# if (left != ans[-1][0]) and (right != ans[-1][1]):\n",
    "#     ans.append([left, right])\n",
    "\n",
    "ans.append([left, right])\n",
    "    \n",
    "print(ans)"
   ]
  },
  {
   "cell_type": "code",
   "execution_count": 18,
   "metadata": {},
   "outputs": [
    {
     "data": {
      "text/plain": [
       "[[1, 9], [10, 11], [12, 21]]"
      ]
     },
     "execution_count": 18,
     "metadata": {},
     "output_type": "execute_result"
    }
   ],
   "source": [
    "def overlap_intervals(arr):\n",
    "    left = arr[0][0]\n",
    "    right = arr[0][1]\n",
    "    ans = []\n",
    "    for i in range(len(arr)-1):\n",
    "        if arr[i][1] >= arr[i+1][0]:\n",
    "            right = arr[i+1][1]\n",
    "        else:\n",
    "            ans.append([left, right])\n",
    "            left = arr[i+1][0]\n",
    "            right = arr[i+1][1]\n",
    "    ans.append([left, right])\n",
    "    return ans\n",
    "\n",
    "overlap_intervals(arr)"
   ]
  },
  {
   "cell_type": "code",
   "execution_count": null,
   "metadata": {},
   "outputs": [],
   "source": []
  },
  {
   "cell_type": "code",
   "execution_count": null,
   "metadata": {},
   "outputs": [],
   "source": []
  },
  {
   "cell_type": "code",
   "execution_count": null,
   "metadata": {},
   "outputs": [],
   "source": []
  },
  {
   "cell_type": "code",
   "execution_count": null,
   "metadata": {},
   "outputs": [],
   "source": []
  },
  {
   "cell_type": "code",
   "execution_count": null,
   "metadata": {},
   "outputs": [],
   "source": []
  },
  {
   "cell_type": "code",
   "execution_count": 19,
   "metadata": {},
   "outputs": [],
   "source": [
    "class pair:\n",
    "    def __init__(self, left, right):\n",
    "        self.left = left\n",
    "        self.right = right\n",
    "\n",
    "def merge_intervals_(lst):\n",
    "    if lst == None or len(lst) == 0:\n",
    "        return None\n",
    "\n",
    "        result = []\n",
    "    result.append(pair(lst[0].left, lst[0].right))\n",
    "\n",
    "    for idx in range(1, len(lst)):\n",
    "\n",
    "        x1 = lst[idx].left\n",
    "        x2 = result[len(result)-1].left\n",
    "\n",
    "        y1 = lst[idx].right\n",
    "        y2 = result[len(result)-1].right\n",
    "\n",
    "        if y2 >= x1:\n",
    "            result[len(result)-1].right = max(y1, y2)\n",
    "        else:\n",
    "            result.append(pair(x1, y1))\n",
    "\n",
    "    return result"
   ]
  },
  {
   "cell_type": "code",
   "execution_count": 20,
   "metadata": {},
   "outputs": [
    {
     "ename": "UnboundLocalError",
     "evalue": "local variable 'result' referenced before assignment",
     "output_type": "error",
     "traceback": [
      "\u001b[0;31m---------------------------------------------------------------------------\u001b[0m",
      "\u001b[0;31mUnboundLocalError\u001b[0m                         Traceback (most recent call last)",
      "\u001b[0;32m<ipython-input-20-339db78f2db6>\u001b[0m in \u001b[0;36m<module>\u001b[0;34m\u001b[0m\n\u001b[1;32m      5\u001b[0m       ]\n\u001b[1;32m      6\u001b[0m \u001b[0;34m\u001b[0m\u001b[0m\n\u001b[0;32m----> 7\u001b[0;31m \u001b[0mresult\u001b[0m \u001b[0;34m=\u001b[0m \u001b[0mmerge_intervals_\u001b[0m\u001b[0;34m(\u001b[0m\u001b[0mlst\u001b[0m\u001b[0;34m)\u001b[0m\u001b[0;34m\u001b[0m\u001b[0;34m\u001b[0m\u001b[0m\n\u001b[0m\u001b[1;32m      8\u001b[0m \u001b[0;34m[\u001b[0m\u001b[0;34m(\u001b[0m\u001b[0mresult\u001b[0m\u001b[0;34m[\u001b[0m\u001b[0mi\u001b[0m\u001b[0;34m]\u001b[0m\u001b[0;34m.\u001b[0m\u001b[0mleft\u001b[0m\u001b[0;34m,\u001b[0m \u001b[0mresult\u001b[0m\u001b[0;34m[\u001b[0m\u001b[0mi\u001b[0m\u001b[0;34m]\u001b[0m\u001b[0;34m.\u001b[0m\u001b[0mright\u001b[0m\u001b[0;34m)\u001b[0m \u001b[0;32mfor\u001b[0m \u001b[0mi\u001b[0m \u001b[0;32min\u001b[0m \u001b[0mrange\u001b[0m\u001b[0;34m(\u001b[0m\u001b[0mlen\u001b[0m\u001b[0;34m(\u001b[0m\u001b[0mresult\u001b[0m\u001b[0;34m)\u001b[0m\u001b[0;34m)\u001b[0m\u001b[0;34m]\u001b[0m\u001b[0;34m\u001b[0m\u001b[0;34m\u001b[0m\u001b[0m\n",
      "\u001b[0;32m<ipython-input-19-f522dc411afe>\u001b[0m in \u001b[0;36mmerge_intervals_\u001b[0;34m(lst)\u001b[0m\n\u001b[1;32m      9\u001b[0m \u001b[0;34m\u001b[0m\u001b[0m\n\u001b[1;32m     10\u001b[0m         \u001b[0mresult\u001b[0m \u001b[0;34m=\u001b[0m \u001b[0;34m[\u001b[0m\u001b[0;34m]\u001b[0m\u001b[0;34m\u001b[0m\u001b[0;34m\u001b[0m\u001b[0m\n\u001b[0;32m---> 11\u001b[0;31m     \u001b[0mresult\u001b[0m\u001b[0;34m.\u001b[0m\u001b[0mappend\u001b[0m\u001b[0;34m(\u001b[0m\u001b[0mpair\u001b[0m\u001b[0;34m(\u001b[0m\u001b[0mlst\u001b[0m\u001b[0;34m[\u001b[0m\u001b[0;36m0\u001b[0m\u001b[0;34m]\u001b[0m\u001b[0;34m.\u001b[0m\u001b[0mleft\u001b[0m\u001b[0;34m,\u001b[0m \u001b[0mlst\u001b[0m\u001b[0;34m[\u001b[0m\u001b[0;36m0\u001b[0m\u001b[0;34m]\u001b[0m\u001b[0;34m.\u001b[0m\u001b[0mright\u001b[0m\u001b[0;34m)\u001b[0m\u001b[0;34m)\u001b[0m\u001b[0;34m\u001b[0m\u001b[0;34m\u001b[0m\u001b[0m\n\u001b[0m\u001b[1;32m     12\u001b[0m \u001b[0;34m\u001b[0m\u001b[0m\n\u001b[1;32m     13\u001b[0m     \u001b[0;32mfor\u001b[0m \u001b[0midx\u001b[0m \u001b[0;32min\u001b[0m \u001b[0mrange\u001b[0m\u001b[0;34m(\u001b[0m\u001b[0;36m1\u001b[0m\u001b[0;34m,\u001b[0m \u001b[0mlen\u001b[0m\u001b[0;34m(\u001b[0m\u001b[0mlst\u001b[0m\u001b[0;34m)\u001b[0m\u001b[0;34m)\u001b[0m\u001b[0;34m:\u001b[0m\u001b[0;34m\u001b[0m\u001b[0;34m\u001b[0m\u001b[0m\n",
      "\u001b[0;31mUnboundLocalError\u001b[0m: local variable 'result' referenced before assignment"
     ]
    }
   ],
   "source": [
    "lst = [pair(1, 5)\n",
    "       , pair(3, 7)\n",
    "       , pair(4, 6)\n",
    "       , pair(6, 8)       \n",
    "      ]\n",
    "\n",
    "result = merge_intervals_(lst)\n",
    "[(result[i].left, result[i].right) for i in range(len(result))]"
   ]
  },
  {
   "cell_type": "code",
   "execution_count": null,
   "metadata": {},
   "outputs": [],
   "source": []
  },
  {
   "cell_type": "code",
   "execution_count": null,
   "metadata": {},
   "outputs": [],
   "source": [
    "# reverse integer\n",
    "def rev(x):\n",
    "    string = str(x)\n",
    "    \n",
    "    if string[0] == '-':\n",
    "        return int('-'+string[:0:-1])\n",
    "    else:\n",
    "        return int(string[::-1])"
   ]
  },
  {
   "cell_type": "code",
   "execution_count": null,
   "metadata": {},
   "outputs": [],
   "source": [
    "rev(123)"
   ]
  },
  {
   "cell_type": "code",
   "execution_count": null,
   "metadata": {},
   "outputs": [],
   "source": [
    "def rev_int(x):\n",
    "    string = str(x)\n",
    "    if string[0] == '-':\n",
    "        return int('-'+string[:0:-1])\n",
    "    else:\n",
    "        return int(string[::-1])"
   ]
  },
  {
   "cell_type": "code",
   "execution_count": null,
   "metadata": {},
   "outputs": [],
   "source": [
    "rev_int(821)"
   ]
  },
  {
   "cell_type": "code",
   "execution_count": null,
   "metadata": {},
   "outputs": [],
   "source": [
    "'0356'[0::3]"
   ]
  },
  {
   "cell_type": "code",
   "execution_count": null,
   "metadata": {},
   "outputs": [],
   "source": [
    "'0356'[::-1]"
   ]
  },
  {
   "cell_type": "code",
   "execution_count": null,
   "metadata": {},
   "outputs": [],
   "source": [
    "[1, 2, 3] + [4, 5, 7]"
   ]
  },
  {
   "cell_type": "code",
   "execution_count": null,
   "metadata": {},
   "outputs": [],
   "source": [
    "# Avg Words Length\n",
    "sentence1 = \"Hi all, my name is Tom...I am originally from Australia.\"\n",
    "sentence2 = \"I need to work very hard to learn more about algorithms in Python!\"\n",
    "\n",
    "def avg_words(s):\n",
    "    for punc in \"!?,;.\":\n",
    "        s = s.replace(punc, '')\n",
    "    words = s.split()\n",
    "    return round(sum(len(word) for word in words) / len(words), 2)"
   ]
  },
  {
   "cell_type": "code",
   "execution_count": null,
   "metadata": {},
   "outputs": [],
   "source": [
    "avg_words(sentence1)"
   ]
  },
  {
   "cell_type": "code",
   "execution_count": null,
   "metadata": {},
   "outputs": [],
   "source": [
    "avg_words(sentence2)"
   ]
  },
  {
   "cell_type": "code",
   "execution_count": null,
   "metadata": {},
   "outputs": [],
   "source": [
    "# add strings\n",
    "num1 = '364'\n",
    "num2 = '1836'\n",
    "\n",
    "def add_strs(num1, num2):\n",
    "    return str(eval(num1) + eval(num2))"
   ]
  },
  {
   "cell_type": "code",
   "execution_count": null,
   "metadata": {},
   "outputs": [],
   "source": [
    "add_strs(num1, num2)"
   ]
  },
  {
   "cell_type": "code",
   "execution_count": null,
   "metadata": {},
   "outputs": [],
   "source": [
    "# add strings\n",
    "num1 = '100000000001'\n",
    "num2 = '200000000002'\n",
    "\n",
    "def add_strs(num1, num2):\n",
    "    return str(eval(num1) + eval(num2))\n",
    "\n",
    "add_strs(num1,num2)"
   ]
  },
  {
   "cell_type": "code",
   "execution_count": null,
   "metadata": {},
   "outputs": [],
   "source": [
    "n1, n2 = 0, 0\n",
    "m1, m2 = 10**(len(num1)-1), 10**(len(num2)-1)\n",
    "\n",
    "for s in num1:\n",
    "    n1 += (ord(s) - ord('0')) * m1\n",
    "    m1 = m1//10\n",
    "\n",
    "for s in num2:\n",
    "    n2 += (ord(s) - ord('0')) * m2\n",
    "    m2 = m2//10\n",
    "n1+n2"
   ]
  },
  {
   "cell_type": "code",
   "execution_count": null,
   "metadata": {},
   "outputs": [],
   "source": [
    "ord('2') - ord('0')"
   ]
  },
  {
   "cell_type": "code",
   "execution_count": null,
   "metadata": {},
   "outputs": [],
   "source": [
    "# find first non-repeating charater in string\n",
    "def non_rep(string):\n",
    "    freq = {}\n",
    "    for char in string:\n",
    "        if char in freq:\n",
    "            freq[char] += 1\n",
    "        else:\n",
    "            freq[char] = 1\n",
    "    for i in range(len(string)):\n",
    "        if freq[string[i]] == 1:\n",
    "            return i\n",
    "    return -1"
   ]
  },
  {
   "cell_type": "code",
   "execution_count": null,
   "metadata": {},
   "outputs": [],
   "source": [
    "non_rep('alphabet'), non_rep('aabbcc'), non_rep('jjklp')"
   ]
  },
  {
   "cell_type": "code",
   "execution_count": null,
   "metadata": {},
   "outputs": [],
   "source": [
    "# pallindrome, you may delete at most one character\n",
    "string = 'radkar'\n",
    "def pal(string):\n",
    "    for i in range(len(string)):\n",
    "        t = string[:i] + string[i+1:]\n",
    "        if t == t[::-1]:\n",
    "            return True\n",
    "    return s == s[::-1]"
   ]
  },
  {
   "cell_type": "code",
   "execution_count": null,
   "metadata": {},
   "outputs": [],
   "source": [
    "pal(string)"
   ]
  },
  {
   "cell_type": "code",
   "execution_count": null,
   "metadata": {},
   "outputs": [],
   "source": [
    "def pal(string):\n",
    "    if string == string[::-1]:\n",
    "        return True\n",
    "    False\n",
    "pal('ababa')"
   ]
  },
  {
   "cell_type": "code",
   "execution_count": null,
   "metadata": {},
   "outputs": [],
   "source": [
    "# Monotonic Array\n",
    "A = [6, 5, 4, 4] \n",
    "B = [1,1,1,3,3,4,3,2,4,2]\n",
    "C = [1,1,2,3,7]\n",
    "\n",
    "def mono(arr):\n",
    "    return (all(arr[i] <= arr[i+1] for i in range(len(arr)-1))\n",
    "            or\n",
    "            all(arr[i] >= arr[i+1] for i in range(len(arr)-1))\n",
    "           )\n",
    "    "
   ]
  },
  {
   "cell_type": "code",
   "execution_count": null,
   "metadata": {},
   "outputs": [],
   "source": [
    "mono(A), mono(B), mono(C)"
   ]
  },
  {
   "cell_type": "code",
   "execution_count": null,
   "metadata": {},
   "outputs": [],
   "source": [
    "# Move zeros right\n",
    "arr1 = [0,1,0,3,12]\n",
    "arr2 = [1,7,0,0,8,0,10,12,0,4]\n",
    "\n",
    "def move_right(arr):\n",
    "    for _ in arr:\n",
    "        if 0 in arr:\n",
    "            arr.remove(0)\n",
    "            arr.append(0)\n",
    "    return arr"
   ]
  },
  {
   "cell_type": "code",
   "execution_count": null,
   "metadata": {},
   "outputs": [],
   "source": [
    "move_right(arr1), move_right(arr2)"
   ]
  },
  {
   "cell_type": "code",
   "execution_count": null,
   "metadata": {},
   "outputs": [],
   "source": [
    "# Move zeros left\n",
    "arr1 = [0,1,0,3,12]\n",
    "arr2 = [1,7,0,0,8,0,10,12,0,4]\n",
    "\n",
    "def move_left(arr):\n",
    "    ctn = 0\n",
    "    for _ in arr:\n",
    "        if 0 in arr:\n",
    "            arr.remove(0)\n",
    "            ctn += 1\n",
    "    return [0 for _ in range(ctn)] + arr\n",
    "move_left(arr1), move_left(arr2)"
   ]
  },
  {
   "cell_type": "code",
   "execution_count": null,
   "metadata": {},
   "outputs": [],
   "source": [
    "# Given an array containing None values fill in the None values with most recent \n",
    "# non None value in the array \n",
    "\n",
    "array1 = [1,None,2,3,None,None,5,None]\n",
    "\n",
    "def fill_blanks(arr):\n",
    "    curr_e = 0\n",
    "    ans = []\n",
    "    for e in arr:\n",
    "        if e is not None:\n",
    "            ans.append(e)\n",
    "            curr_e = e\n",
    "        else:\n",
    "            ans.append(curr_e)\n",
    "    return ans\n",
    "fill_blanks(array1)"
   ]
  },
  {
   "cell_type": "code",
   "execution_count": null,
   "metadata": {},
   "outputs": [],
   "source": [
    "def fill_blanks(arr):\n",
    "    curr = 0\n",
    "    ans = []\n",
    "    for e in arr:\n",
    "        if e is not None:\n",
    "            ans.append(e)\n",
    "            curr = e\n",
    "        else:\n",
    "            ans.append(curr)\n",
    "    return ans\n",
    "\n",
    "fill_blanks([1, None, None, 2, None, None, 3, None, None, None, None])"
   ]
  },
  {
   "cell_type": "code",
   "execution_count": null,
   "metadata": {},
   "outputs": [],
   "source": [
    "#Given two sentences, return an array that has the words that appear in one sentence and not\n",
    "#the other and an array with the words in common. \n",
    "\n",
    "sentence1 = 'We are really pleased to meet you in our city'\n",
    "sentence2 = 'The city was hit by a really heavy storm'\n",
    "\n",
    "def not_common(sentence1, sentence2):\n",
    "    set1 = set(sentence1.split())\n",
    "    set2 = set(sentence2.split())\n",
    "    return sorted(list(set1^set2)), sorted(list(set1&set2))\n",
    "not_common(sentence1, sentence2)"
   ]
  },
  {
   "cell_type": "code",
   "execution_count": null,
   "metadata": {},
   "outputs": [],
   "source": [
    "# prime numbers array of up to a number\n",
    "n = 5\n",
    "def prime(n):\n",
    "    ans = [2]\n",
    "    for num in range(1, n+1):\n",
    "        for i in range(2, num):\n",
    "            if (num % i) == 0:\n",
    "                print('yes')\n",
    "                break\n",
    "            else:\n",
    "                # ans.append(num)\n",
    "                print('no')\n",
    "                break\n",
    "    #return ans\n",
    "\n",
    "prime(n)"
   ]
  },
  {
   "cell_type": "code",
   "execution_count": null,
   "metadata": {},
   "outputs": [],
   "source": [
    "n = 15\n",
    "ans = [2]\n",
    "for num in range(1, n):\n",
    "    for div in range(2, num):\n",
    "        if (num % div) == 0:\n",
    "            break\n",
    "        else:\n",
    "            ans.append(num)\n",
    "            break\n",
    "ans"
   ]
  },
  {
   "cell_type": "code",
   "execution_count": null,
   "metadata": {},
   "outputs": [],
   "source": [
    "n = 15\n",
    "ans = [2]\n",
    "for num in range(1, n):\n",
    "    for div in range(2, num):\n",
    "        if (num % div) == 0:\n",
    "            break\n",
    "        else:\n",
    "            ans.append(num)\n",
    "            break\n",
    "ans"
   ]
  },
  {
   "cell_type": "code",
   "execution_count": null,
   "metadata": {},
   "outputs": [],
   "source": []
  },
  {
   "cell_type": "code",
   "execution_count": null,
   "metadata": {},
   "outputs": [],
   "source": []
  },
  {
   "cell_type": "code",
   "execution_count": null,
   "metadata": {},
   "outputs": [],
   "source": []
  },
  {
   "cell_type": "code",
   "execution_count": null,
   "metadata": {},
   "outputs": [],
   "source": []
  },
  {
   "cell_type": "code",
   "execution_count": null,
   "metadata": {},
   "outputs": [],
   "source": []
  },
  {
   "cell_type": "code",
   "execution_count": null,
   "metadata": {},
   "outputs": [],
   "source": []
  },
  {
   "cell_type": "code",
   "execution_count": null,
   "metadata": {},
   "outputs": [],
   "source": []
  },
  {
   "cell_type": "code",
   "execution_count": 21,
   "metadata": {},
   "outputs": [
    {
     "data": {
      "text/plain": [
       "[1, 1, 2, 3, 5, 8, 13, 21, 34, 55]"
      ]
     },
     "execution_count": 21,
     "metadata": {},
     "output_type": "execute_result"
    }
   ],
   "source": [
    "def fib(n):\n",
    "    if n < 0:\n",
    "        print('Input n >= 0')\n",
    "    elif n == 0:\n",
    "        return 0\n",
    "    elif n == 1:\n",
    "        return 1\n",
    "    else:\n",
    "        return fib(n-1) + fib(n-2)\n",
    "\n",
    "[fib(i) for i in range(1,11)]"
   ]
  },
  {
   "cell_type": "code",
   "execution_count": 22,
   "metadata": {},
   "outputs": [
    {
     "data": {
      "text/plain": [
       "0"
      ]
     },
     "execution_count": 22,
     "metadata": {},
     "output_type": "execute_result"
    }
   ],
   "source": [
    "fib(0)"
   ]
  },
  {
   "cell_type": "code",
   "execution_count": 23,
   "metadata": {},
   "outputs": [],
   "source": [
    "def fib(n):\n",
    "    if n <= 0:\n",
    "        print('n >= 0')\n",
    "    elif n == 1:\n",
    "        return 1\n",
    "    elif n == 2:\n",
    "        return 1\n",
    "    else:\n",
    "        return fib(n-1) + fib(n-2)"
   ]
  },
  {
   "cell_type": "code",
   "execution_count": 24,
   "metadata": {},
   "outputs": [
    {
     "data": {
      "text/plain": [
       "(1, 1, 2)"
      ]
     },
     "execution_count": 24,
     "metadata": {},
     "output_type": "execute_result"
    }
   ],
   "source": [
    "fib(1), fib(2), fib(3)"
   ]
  },
  {
   "cell_type": "code",
   "execution_count": 25,
   "metadata": {},
   "outputs": [],
   "source": [
    "def check_prime(num):\n",
    "    if (num == 2) or (num == 3):\n",
    "        return 'prime'\n",
    "    elif num < 2:\n",
    "        return 'not prime'\n",
    "    else:\n",
    "        for div in range(2, num):\n",
    "            lst = []\n",
    "            if (num % div) == 0:\n",
    "                lst.append(1)\n",
    "            else:\n",
    "                lst.append(0)\n",
    "            \n",
    "            if 1 in lst:\n",
    "                return 'not prime'"
   ]
  },
  {
   "cell_type": "code",
   "execution_count": 26,
   "metadata": {},
   "outputs": [
    {
     "data": {
      "text/plain": [
       "['1, not prime',\n",
       " '2, prime',\n",
       " '3, prime',\n",
       " '4, not prime',\n",
       " '5, None',\n",
       " '6, not prime',\n",
       " '7, None',\n",
       " '8, not prime',\n",
       " '9, not prime',\n",
       " '10, not prime']"
      ]
     },
     "execution_count": 26,
     "metadata": {},
     "output_type": "execute_result"
    }
   ],
   "source": [
    "[f'{x}, {check_prime(x)}' for x in range(1, 11)]"
   ]
  },
  {
   "cell_type": "code",
   "execution_count": 27,
   "metadata": {},
   "outputs": [
    {
     "name": "stdout",
     "output_type": "stream",
     "text": [
      "no\n",
      "yes\n",
      "no\n",
      "no\n",
      "no\n",
      "no\n",
      "no\n"
     ]
    }
   ],
   "source": [
    "for div in range(2, 9):\n",
    "    if (9 % div) == 0:\n",
    "        print('yes')\n",
    "    else:\n",
    "        print('no')"
   ]
  },
  {
   "cell_type": "code",
   "execution_count": 28,
   "metadata": {},
   "outputs": [
    {
     "data": {
      "text/plain": [
       "['Nth: 1, Fib: 1',\n",
       " 'Nth: 2, Fib: 1',\n",
       " 'Nth: 3, Fib: 2',\n",
       " 'Nth: 4, Fib: 3',\n",
       " 'Nth: 5, Fib: 5',\n",
       " 'Nth: 6, Fib: 8',\n",
       " 'Nth: 7, Fib: 13',\n",
       " 'Nth: 8, Fib: 21',\n",
       " 'Nth: 9, Fib: 34',\n",
       " 'Nth: 10, Fib: 55']"
      ]
     },
     "execution_count": 28,
     "metadata": {},
     "output_type": "execute_result"
    }
   ],
   "source": [
    "def fib(n):\n",
    "    if n <= 0:\n",
    "        print('n >= 0')\n",
    "    elif n == 1:\n",
    "        return 1\n",
    "    elif n == 2:\n",
    "        return 1\n",
    "    else:\n",
    "        return fib(n-1) + fib(n-2)\n",
    "    \n",
    "[f'Nth: {x}, Fib: {fib(x)}' for x in range(1, 11)]"
   ]
  },
  {
   "cell_type": "code",
   "execution_count": 29,
   "metadata": {},
   "outputs": [],
   "source": [
    "def check_prime(num):\n",
    "    if (num == 2) or (num == 3):\n",
    "        return 'prime'\n",
    "    elif num < 2:\n",
    "        return 'not prime'\n",
    "    else:\n",
    "        mod_lst = []\n",
    "        for div in range(2, num):\n",
    "            if (num % div) == 0:\n",
    "                mod_lst.append(1)\n",
    "            else:\n",
    "                mod_lst.append(0)\n",
    "        if 1 in mod_lst:\n",
    "            return 'not prime'\n",
    "        else:\n",
    "            return 'prime'"
   ]
  },
  {
   "cell_type": "code",
   "execution_count": 30,
   "metadata": {},
   "outputs": [
    {
     "data": {
      "text/plain": [
       "'prime'"
      ]
     },
     "execution_count": 30,
     "metadata": {},
     "output_type": "execute_result"
    }
   ],
   "source": [
    "check_prime(5)"
   ]
  },
  {
   "cell_type": "code",
   "execution_count": 31,
   "metadata": {},
   "outputs": [
    {
     "data": {
      "text/plain": [
       "'not prime'"
      ]
     },
     "execution_count": 31,
     "metadata": {},
     "output_type": "execute_result"
    }
   ],
   "source": [
    "check_prime(9)"
   ]
  },
  {
   "cell_type": "code",
   "execution_count": 32,
   "metadata": {},
   "outputs": [
    {
     "data": {
      "text/plain": [
       "['1, not prime',\n",
       " '2, prime',\n",
       " '3, prime',\n",
       " '4, not prime',\n",
       " '5, prime',\n",
       " '6, not prime',\n",
       " '7, prime',\n",
       " '8, not prime',\n",
       " '9, not prime',\n",
       " '10, not prime']"
      ]
     },
     "execution_count": 32,
     "metadata": {},
     "output_type": "execute_result"
    }
   ],
   "source": [
    "[f'{x}, {check_prime(x)}' for x in range(1,11)]"
   ]
  },
  {
   "cell_type": "code",
   "execution_count": 33,
   "metadata": {},
   "outputs": [],
   "source": [
    "arr = [1, -5, 6, 3]\n",
    "def bubble(arr):\n",
    "    swap = True\n",
    "    while swap:\n",
    "        swap = False\n",
    "        for i in range(len(arr) - 1):\n",
    "            if arr[i] > arr[i+1]:\n",
    "                arr[i], arr[i+1] = arr[i+1], arr[i]\n",
    "                swap = True"
   ]
  },
  {
   "cell_type": "code",
   "execution_count": 34,
   "metadata": {},
   "outputs": [],
   "source": [
    " bubble(arr)"
   ]
  },
  {
   "cell_type": "code",
   "execution_count": 35,
   "metadata": {},
   "outputs": [
    {
     "data": {
      "text/plain": [
       "[-5, 1, 3, 6]"
      ]
     },
     "execution_count": 35,
     "metadata": {},
     "output_type": "execute_result"
    }
   ],
   "source": [
    "arr"
   ]
  },
  {
   "cell_type": "code",
   "execution_count": 36,
   "metadata": {},
   "outputs": [
    {
     "data": {
      "text/plain": [
       "[1, 2, 3]"
      ]
     },
     "execution_count": 36,
     "metadata": {},
     "output_type": "execute_result"
    }
   ],
   "source": [
    "def bubble(arr):\n",
    "    swap = True\n",
    "    while swap:\n",
    "        swap = False\n",
    "        for i in range(len(arr) - 1):\n",
    "            if arr[i] > arr[i+1]:\n",
    "                arr[i], arr[i+1] = arr[i+1], arr[i]\n",
    "                swap = True\n",
    "                \n",
    "arr = [3, 1, 2]\n",
    "bubble(arr)\n",
    "arr"
   ]
  },
  {
   "cell_type": "code",
   "execution_count": 37,
   "metadata": {},
   "outputs": [
    {
     "data": {
      "text/plain": [
       "[1, 4, 5]"
      ]
     },
     "execution_count": 37,
     "metadata": {},
     "output_type": "execute_result"
    }
   ],
   "source": [
    "def bubble_func(arr):\n",
    "    swap = True\n",
    "    while swap:\n",
    "        swap = False\n",
    "        for i in range(len(arr)-1):\n",
    "            if arr[i] > arr[i+1]:\n",
    "                arr[i], arr[i+1] = arr[i+1], arr[i]\n",
    "                swap = True\n",
    "    return arr\n",
    "\n",
    "bubble_func([1,5,4])\n",
    "            "
   ]
  },
  {
   "cell_type": "code",
   "execution_count": 38,
   "metadata": {},
   "outputs": [
    {
     "data": {
      "text/plain": [
       "[-1, 1, 3, 3]"
      ]
     },
     "execution_count": 38,
     "metadata": {},
     "output_type": "execute_result"
    }
   ],
   "source": [
    "def bubble_sort(arr):\n",
    "    swap = True\n",
    "    while swap:\n",
    "        for i in range(len(arr)-1):\n",
    "            if arr[i] > arr[i+1]:\n",
    "                arr[i], arr[i+1] = arr[i+1], arr[i]\n",
    "                swap = True\n",
    "    return arr\n",
    "\n",
    "bubble_func([1,-1,3,3])"
   ]
  },
  {
   "cell_type": "code",
   "execution_count": null,
   "metadata": {},
   "outputs": [],
   "source": []
  },
  {
   "cell_type": "code",
   "execution_count": 39,
   "metadata": {},
   "outputs": [],
   "source": [
    "def bubble_sort(nums):\n",
    "    # We set swapped to True so the loop looks runs at least once\n",
    "    swapped = True\n",
    "    while swapped:\n",
    "        swapped = False\n",
    "        for i in range(len(nums) - 1):\n",
    "            if nums[i] > nums[i + 1]:\n",
    "                # Swap the elements\n",
    "                nums[i], nums[i + 1] = nums[i + 1], nums[i]\n",
    "                # Set the flag to True so we'll loop again\n",
    "                swapped = True"
   ]
  },
  {
   "cell_type": "code",
   "execution_count": 40,
   "metadata": {},
   "outputs": [],
   "source": [
    "bubble_sort(arr)"
   ]
  },
  {
   "cell_type": "code",
   "execution_count": 41,
   "metadata": {},
   "outputs": [
    {
     "data": {
      "text/plain": [
       "[1, 2, 3]"
      ]
     },
     "execution_count": 41,
     "metadata": {},
     "output_type": "execute_result"
    }
   ],
   "source": [
    "arr"
   ]
  },
  {
   "cell_type": "code",
   "execution_count": 42,
   "metadata": {},
   "outputs": [
    {
     "data": {
      "text/plain": [
       "3"
      ]
     },
     "execution_count": 42,
     "metadata": {},
     "output_type": "execute_result"
    }
   ],
   "source": [
    "str1 = 'abcabcabck'\n",
    "str2 = 'abc'\n",
    "ctn = 0\n",
    "for i in range(len(str1)):\n",
    "    if str1[i:i+3] == str2:\n",
    "        ctn += 1\n",
    "ctn"
   ]
  },
  {
   "cell_type": "code",
   "execution_count": 43,
   "metadata": {},
   "outputs": [
    {
     "data": {
      "text/plain": [
       "4"
      ]
     },
     "execution_count": 43,
     "metadata": {},
     "output_type": "execute_result"
    }
   ],
   "source": [
    "str1 = 'abcabcabcabcaaa'\n",
    "str2 = 'abc'\n",
    "ctn = 0\n",
    "for i in range(len(str1)):\n",
    "    if str1[i:i+3] == str2:\n",
    "        ctn += 1\n",
    "ctn"
   ]
  },
  {
   "cell_type": "code",
   "execution_count": 44,
   "metadata": {},
   "outputs": [
    {
     "data": {
      "text/plain": [
       "2"
      ]
     },
     "execution_count": 44,
     "metadata": {},
     "output_type": "execute_result"
    }
   ],
   "source": [
    "def ctn_sub_string(str1, str2):\n",
    "    ctn = 0\n",
    "    for i in range(len(str1)):\n",
    "        if str1[i:i+len(str2)] == str2:\n",
    "            ctn += 1\n",
    "    return ctn\n",
    "\n",
    "ctn_sub_string('abccababc', 'abc')"
   ]
  },
  {
   "cell_type": "code",
   "execution_count": null,
   "metadata": {},
   "outputs": [],
   "source": []
  },
  {
   "cell_type": "code",
   "execution_count": 45,
   "metadata": {},
   "outputs": [
    {
     "data": {
      "text/plain": [
       "3"
      ]
     },
     "execution_count": 45,
     "metadata": {},
     "output_type": "execute_result"
    }
   ],
   "source": [
    "# redo check number of times string appears\n",
    "\n",
    "str1 = 'abcabcabck'\n",
    "str2 = 'abc'\n",
    "\n",
    "\n",
    "def repeat(str1, str2):\n",
    "    ctn = 0\n",
    "    for i in range(len(str1)):\n",
    "        if str1[i:i+len(str2)] == str2:\n",
    "            ctn += 1\n",
    "            \n",
    "    return ctn\n",
    "\n",
    "repeat(str1, str2)"
   ]
  },
  {
   "cell_type": "code",
   "execution_count": 46,
   "metadata": {},
   "outputs": [
    {
     "data": {
      "text/plain": [
       "[-15, -1, 3, 25]"
      ]
     },
     "execution_count": 46,
     "metadata": {},
     "output_type": "execute_result"
    }
   ],
   "source": [
    "# redu bubble sort\n",
    "\n",
    "def bubble(nums):\n",
    "    swapped = True\n",
    "    while swapped:\n",
    "        swapped = False\n",
    "        for i in range(len(nums) - 1):\n",
    "            if nums[i] > nums[i+1]:\n",
    "                nums[i], nums[i+1] = nums[i+1], nums[i]\n",
    "                swapped = True\n",
    "                \n",
    "arr = [-1, 3, 25, -15]\n",
    "\n",
    "bubble(arr)\n",
    "arr"
   ]
  },
  {
   "cell_type": "code",
   "execution_count": 47,
   "metadata": {},
   "outputs": [],
   "source": [
    "# redo fibnacci function\n",
    "def fib(n):\n",
    "    if n <= 0:\n",
    "        print('n >= 1')\n",
    "    elif n == 1:\n",
    "        return 1\n",
    "    elif n == 2:\n",
    "        return 1\n",
    "    else:\n",
    "        return fib(n-1) + fib(n-2)"
   ]
  },
  {
   "cell_type": "code",
   "execution_count": 48,
   "metadata": {},
   "outputs": [
    {
     "data": {
      "text/plain": [
       "[1,\n",
       " 1,\n",
       " 2,\n",
       " 3,\n",
       " 5,\n",
       " 8,\n",
       " 13,\n",
       " 21,\n",
       " 34,\n",
       " 55,\n",
       " 89,\n",
       " 144,\n",
       " 233,\n",
       " 377,\n",
       " 610,\n",
       " 987,\n",
       " 1597,\n",
       " 2584,\n",
       " 4181]"
      ]
     },
     "execution_count": 48,
     "metadata": {},
     "output_type": "execute_result"
    }
   ],
   "source": [
    "[fib(x) for x in range(1, 20)]"
   ]
  },
  {
   "cell_type": "code",
   "execution_count": 49,
   "metadata": {},
   "outputs": [],
   "source": [
    "# redo bubble sort\n",
    "def bubble(arr):\n",
    "    swapped = True\n",
    "    while swapped:\n",
    "        swapped = False\n",
    "        for i in range(len(arr)-1):\n",
    "            if arr[i] > arr[i+1]:\n",
    "                arr[i], arr[i+1] = arr[i+1], arr[i]\n",
    "                swapped = True\n",
    "\n",
    "arr = [-10, -25, 3, -1, 201]"
   ]
  },
  {
   "cell_type": "code",
   "execution_count": 50,
   "metadata": {},
   "outputs": [
    {
     "data": {
      "text/plain": [
       "[-25, -10, -1, 3, 201]"
      ]
     },
     "execution_count": 50,
     "metadata": {},
     "output_type": "execute_result"
    }
   ],
   "source": [
    "bubble(arr)\n",
    "arr"
   ]
  },
  {
   "cell_type": "code",
   "execution_count": 51,
   "metadata": {},
   "outputs": [
    {
     "data": {
      "text/plain": [
       "[1, 1, 2, 3, 5, 8, 13, 21, 34, 55]"
      ]
     },
     "execution_count": 51,
     "metadata": {},
     "output_type": "execute_result"
    }
   ],
   "source": [
    "# redo fibonacci\n",
    "def fib(n):\n",
    "    \"\"\"\n",
    "    Returns nth fibonacci number\n",
    "    Input: n, integer of nth fibonacci number\n",
    "    Ouput: \n",
    "    \"\"\"\n",
    "    if n <= 0:\n",
    "        print('n >= 0')\n",
    "    elif n == 1:\n",
    "        return 1\n",
    "    elif n == 2:\n",
    "        return 1\n",
    "    else:\n",
    "        return fib(n-1) + fib(n-2)\n",
    "    \n",
    "[fib(x) for x in range(1, 11)]"
   ]
  },
  {
   "cell_type": "code",
   "execution_count": 52,
   "metadata": {},
   "outputs": [
    {
     "data": {
      "text/plain": [
       "[(1, 'not prime'),\n",
       " (2, 'prime'),\n",
       " (3, 'prime'),\n",
       " (4, 'not prime'),\n",
       " (5, 'pime'),\n",
       " (6, 'not prime'),\n",
       " (7, 'pime'),\n",
       " (8, 'not prime'),\n",
       " (9, 'not prime'),\n",
       " (10, 'not prime')]"
      ]
     },
     "execution_count": 52,
     "metadata": {},
     "output_type": "execute_result"
    }
   ],
   "source": [
    "# redo check prime\n",
    "def prime(n):\n",
    "    lst = []\n",
    "    if (n == 2) or (n == 3):\n",
    "        return 'prime'\n",
    "    elif n < 2:\n",
    "        return 'not prime'\n",
    "    else:\n",
    "        for num in range(2,n):\n",
    "            if n % num == 0:\n",
    "                lst.append(1)\n",
    "            else:\n",
    "                lst.append(0)\n",
    "    \n",
    "    if 1 in lst:\n",
    "        return 'not prime'\n",
    "    else:\n",
    "        return 'pime'\n",
    "    \n",
    "[(x, prime(x)) for x in range(1, 11)]"
   ]
  },
  {
   "cell_type": "code",
   "execution_count": 53,
   "metadata": {},
   "outputs": [
    {
     "data": {
      "text/plain": [
       "[1, 1, 2, 3, 5, 8, 13, 21, 34, 55]"
      ]
     },
     "execution_count": 53,
     "metadata": {},
     "output_type": "execute_result"
    }
   ],
   "source": [
    "# redo fibonacci function\n",
    "def fib(n):\n",
    "    if n <= 0:\n",
    "        print('n >= 0')\n",
    "    elif n == 1:\n",
    "        return 1\n",
    "    elif n == 2:\n",
    "        return 1\n",
    "    else:\n",
    "        return fib(n-1) + fib(n-2)\n",
    "    \n",
    "[fib(x) for x in range(1, 11)]"
   ]
  },
  {
   "cell_type": "code",
   "execution_count": 54,
   "metadata": {},
   "outputs": [
    {
     "data": {
      "text/plain": [
       "[-82, -13, -2, -2, -1, 5]"
      ]
     },
     "execution_count": 54,
     "metadata": {},
     "output_type": "execute_result"
    }
   ],
   "source": [
    "# redo bubble sort\n",
    "def bubble(arr):\n",
    "    swapped = True\n",
    "    while swapped:\n",
    "        swapped = False\n",
    "        for i in range(len(arr)-1):\n",
    "            if arr[i] > arr[i+1]:\n",
    "                arr[i], arr[i+1] = arr[i+1], arr[i]\n",
    "                swapped = True\n",
    "\n",
    "arr = [-1, 5, -82, -13, -2, -2]\n",
    "bubble(arr)\n",
    "arr"
   ]
  },
  {
   "cell_type": "code",
   "execution_count": 55,
   "metadata": {},
   "outputs": [
    {
     "data": {
      "text/plain": [
       "'happy'"
      ]
     },
     "execution_count": 55,
     "metadata": {},
     "output_type": "execute_result"
    }
   ],
   "source": [
    "# extra word from two sentences\n",
    "s1 = 'i am happy'\n",
    "s2 = 'i am happy happy'\n",
    "\n",
    "def extra(s1, s2):\n",
    "    a1 = s1.split(' ')\n",
    "    a2 = s2.split(' ')\n",
    "    \n",
    "    a3 = a1 + a2\n",
    "    \n",
    "    words_dict = {}\n",
    "    \n",
    "    for word in a3:\n",
    "        if word in words_dict:\n",
    "            words_dict[word] += 1\n",
    "        else:\n",
    "            words_dict[word] = 1\n",
    "    \n",
    "    for word in words_dict:\n",
    "        if words_dict[word] != 2:\n",
    "            return word\n",
    "    \n",
    "    return ''\n",
    "    \n",
    "extra(s1, s2)   "
   ]
  },
  {
   "cell_type": "code",
   "execution_count": 56,
   "metadata": {},
   "outputs": [
    {
     "data": {
      "text/plain": [
       "[({5}, {10, 15, 20, 25}),\n",
       " ({10}, {5, 15, 20, 25}),\n",
       " ({15}, {5, 10, 20, 25}),\n",
       " ({20}, {5, 10, 15, 25}),\n",
       " ({25}, {5, 10, 15, 20})]"
      ]
     },
     "execution_count": 56,
     "metadata": {},
     "output_type": "execute_result"
    }
   ],
   "source": [
    "# review sets and subsets and combinations\n",
    "s = {5, 10, 15, 20, 25}\n",
    "\n",
    "import itertools as itr\n",
    "\n",
    "[(set(x), s - set(x)) for x in itr.combinations(s, 1)]"
   ]
  },
  {
   "cell_type": "code",
   "execution_count": 57,
   "metadata": {},
   "outputs": [
    {
     "data": {
      "text/plain": [
       "[({5, 10}, {15, 20, 25}),\n",
       " ({5, 15}, {10, 20, 25}),\n",
       " ({5, 20}, {10, 15, 25}),\n",
       " ({5, 25}, {10, 15, 20}),\n",
       " ({10, 15}, {5, 20, 25}),\n",
       " ({10, 20}, {5, 15, 25}),\n",
       " ({10, 25}, {5, 15, 20}),\n",
       " ({15, 20}, {5, 10, 25}),\n",
       " ({15, 25}, {5, 10, 20}),\n",
       " ({20, 25}, {5, 10, 15})]"
      ]
     },
     "execution_count": 57,
     "metadata": {},
     "output_type": "execute_result"
    }
   ],
   "source": [
    "[(set(x), s - set(x)) for x in itr.combinations(s, 2)]"
   ]
  },
  {
   "cell_type": "code",
   "execution_count": 58,
   "metadata": {},
   "outputs": [
    {
     "data": {
      "text/plain": [
       "[({5, 10, 15}, {20, 25}),\n",
       " ({5, 10, 20}, {15, 25}),\n",
       " ({5, 10, 25}, {15, 20}),\n",
       " ({5, 15, 20}, {10, 25}),\n",
       " ({5, 15, 25}, {10, 20}),\n",
       " ({5, 20, 25}, {10, 15}),\n",
       " ({10, 15, 20}, {5, 25}),\n",
       " ({10, 15, 25}, {5, 20}),\n",
       " ({10, 20, 25}, {5, 15}),\n",
       " ({15, 20, 25}, {5, 10})]"
      ]
     },
     "execution_count": 58,
     "metadata": {},
     "output_type": "execute_result"
    }
   ],
   "source": [
    "[(set(x), s - set(x)) for x in itr.combinations(s, 3)]"
   ]
  },
  {
   "cell_type": "code",
   "execution_count": 59,
   "metadata": {
    "scrolled": true
   },
   "outputs": [
    {
     "data": {
      "text/plain": [
       "[({5, 10, 15, 20}, {25}),\n",
       " ({5, 10, 15, 25}, {20}),\n",
       " ({5, 10, 20, 25}, {15}),\n",
       " ({5, 15, 20, 25}, {10}),\n",
       " ({10, 15, 20, 25}, {5})]"
      ]
     },
     "execution_count": 59,
     "metadata": {},
     "output_type": "execute_result"
    }
   ],
   "source": [
    "[(set(x), s - set(x)) for x in itr.combinations(s, 4)]"
   ]
  },
  {
   "cell_type": "code",
   "execution_count": 60,
   "metadata": {},
   "outputs": [
    {
     "data": {
      "text/plain": [
       "({10, 25}, {5, 15, 20})"
      ]
     },
     "execution_count": 60,
     "metadata": {},
     "output_type": "execute_result"
    }
   ],
   "source": [
    "s = {5, 10, 15, 20, 25}\n",
    "def least_sets(s):\n",
    "    import itertools as itr\n",
    "    set_arr = []\n",
    "    for n in range(1, len(s) // 2 + 1):\n",
    "        set_arr += [(set(x), s - set(x)) for x in itr.combinations(s, n)]\n",
    "    \n",
    "    diff = []\n",
    "    for tup in set_arr:\n",
    "        diff.append(abs(sum(tup[0]) - sum(tup[1])))\n",
    "    \n",
    "    return set_arr[diff.index(min(diff))][0], set_arr[diff.index(min(diff))][1]\n",
    "\n",
    "least_sets(s)"
   ]
  },
  {
   "cell_type": "code",
   "execution_count": 61,
   "metadata": {},
   "outputs": [
    {
     "data": {
      "text/plain": [
       "[1, 1, 2, 3, 5, 8, 13, 21, 34, 55]"
      ]
     },
     "execution_count": 61,
     "metadata": {},
     "output_type": "execute_result"
    }
   ],
   "source": [
    "# redo fibonacci function\n",
    "def fib(n):\n",
    "    if n <= 0:\n",
    "        print('n >= 1')\n",
    "    elif n == 1:\n",
    "        return 1\n",
    "    elif n == 2:\n",
    "        return 1\n",
    "    else:\n",
    "        return fib(n-1) + fib(n-2)\n",
    "    \n",
    "[fib(x) for x in range(1, 11)]"
   ]
  },
  {
   "cell_type": "code",
   "execution_count": 62,
   "metadata": {},
   "outputs": [
    {
     "data": {
      "text/plain": [
       "[-32, -22, -9, -3, 8]"
      ]
     },
     "execution_count": 62,
     "metadata": {},
     "output_type": "execute_result"
    }
   ],
   "source": [
    "# redo bubble sort:\n",
    "def bubble(arr):\n",
    "    swapped = True\n",
    "    while swapped:\n",
    "        swapped = False\n",
    "        for idx in range(len(arr) -1):\n",
    "            if arr[idx] > arr[idx+1]:\n",
    "                arr[idx], arr[idx+1] = arr[idx+1], arr[idx]\n",
    "                swapped = True\n",
    "\n",
    "arr = [-9, -32, 8, -3, -22]\n",
    "bubble(arr)\n",
    "arr"
   ]
  },
  {
   "cell_type": "code",
   "execution_count": 63,
   "metadata": {},
   "outputs": [
    {
     "data": {
      "text/plain": [
       "[(1, 'not prime'),\n",
       " (2, 'prime'),\n",
       " (3, 'prime'),\n",
       " (4, 'not prime'),\n",
       " (5, 'prime'),\n",
       " (6, 'not prime'),\n",
       " (7, 'prime'),\n",
       " (8, 'not prime'),\n",
       " (9, 'not prime'),\n",
       " (10, 'not prime'),\n",
       " (11, 'prime'),\n",
       " (12, 'not prime'),\n",
       " (13, 'prime'),\n",
       " (14, 'not prime'),\n",
       " (15, 'not prime'),\n",
       " (16, 'not prime'),\n",
       " (17, 'prime'),\n",
       " (18, 'not prime'),\n",
       " (19, 'prime'),\n",
       " (20, 'not prime'),\n",
       " (21, 'not prime'),\n",
       " (22, 'not prime'),\n",
       " (23, 'prime'),\n",
       " (24, 'not prime'),\n",
       " (25, 'not prime'),\n",
       " (26, 'not prime'),\n",
       " (27, 'not prime'),\n",
       " (28, 'not prime'),\n",
       " (29, 'prime'),\n",
       " (30, 'not prime')]"
      ]
     },
     "execution_count": 63,
     "metadata": {},
     "output_type": "execute_result"
    }
   ],
   "source": [
    "# redo prime\n",
    "def prime(num):\n",
    "    if (num == 2) or (num == 3):\n",
    "        return 'prime'\n",
    "    elif num < 2:\n",
    "        return 'not prime'\n",
    "    else:\n",
    "        check_arr = []\n",
    "        for x in range(2,num):\n",
    "            if num % x == 0:\n",
    "                check_arr.append(1)\n",
    "            else: \n",
    "                check_arr.append(0)\n",
    "    if 1 in check_arr:\n",
    "        return 'not prime'\n",
    "    else:\n",
    "        return 'prime'\n",
    "    \n",
    "[(x, prime(x)) for x in range (1, 31)]"
   ]
  },
  {
   "cell_type": "code",
   "execution_count": 64,
   "metadata": {},
   "outputs": [
    {
     "data": {
      "text/plain": [
       "[1, 1, 2, 3, 5, 8, 13, 21, 34, 55]"
      ]
     },
     "execution_count": 64,
     "metadata": {},
     "output_type": "execute_result"
    }
   ],
   "source": [
    "# redo fibonacci\n",
    "def fib(n):\n",
    "    if n <= 0:\n",
    "        print('n >= 0')\n",
    "    elif n == 1:\n",
    "        return 1\n",
    "    elif n == 2:\n",
    "        return 1\n",
    "    else:\n",
    "        return fib(n-1) + fib(n-2)\n",
    "    \n",
    "[fib(x) for x in range(1, 11)]"
   ]
  },
  {
   "cell_type": "code",
   "execution_count": 65,
   "metadata": {},
   "outputs": [
    {
     "data": {
      "text/plain": [
       "[-10, -7, -3, -1, 25]"
      ]
     },
     "execution_count": 65,
     "metadata": {},
     "output_type": "execute_result"
    }
   ],
   "source": [
    "# redo bubble sort\n",
    "def bubble(arr):\n",
    "    swapped = True\n",
    "    while swapped:\n",
    "        swapped = False\n",
    "        for i in range(len(arr) - 1):\n",
    "            if arr[i] > arr[i + 1]:\n",
    "                arr[i], arr[i + 1] = arr[i + 1], arr[i]\n",
    "                swapped = True\n",
    "                \n",
    "arr = [-3, -1, -7, -10, 25]\n",
    "bubble(arr)\n",
    "arr"
   ]
  },
  {
   "cell_type": "code",
   "execution_count": 66,
   "metadata": {},
   "outputs": [
    {
     "data": {
      "text/plain": [
       "[(1, 'not prime'),\n",
       " (2, 'prime'),\n",
       " (3, 'prime'),\n",
       " (4, 'not prime'),\n",
       " (5, 'prime'),\n",
       " (6, 'not prime'),\n",
       " (7, 'prime'),\n",
       " (8, 'not prime'),\n",
       " (9, 'not prime'),\n",
       " (10, 'not prime'),\n",
       " (11, 'prime'),\n",
       " (12, 'not prime'),\n",
       " (13, 'prime'),\n",
       " (14, 'not prime'),\n",
       " (15, 'not prime'),\n",
       " (16, 'not prime'),\n",
       " (17, 'prime'),\n",
       " (18, 'not prime'),\n",
       " (19, 'prime'),\n",
       " (20, 'not prime')]"
      ]
     },
     "execution_count": 66,
     "metadata": {},
     "output_type": "execute_result"
    }
   ],
   "source": [
    "# redo prime check\n",
    "def prime(num):\n",
    "    if num == 2 or num == 3:\n",
    "        return 'prime'\n",
    "    elif num < 2:\n",
    "        return 'not prime'\n",
    "    \n",
    "    divisible_arr = []\n",
    "    for x in range(2, num):\n",
    "        if num % x == 0:\n",
    "            divisible_arr.append(1)\n",
    "        else:\n",
    "            divisible_arr.append(0)\n",
    "    \n",
    "    if 1 in divisible_arr:\n",
    "        return 'not prime'\n",
    "    else:\n",
    "        return 'prime'\n",
    "    \n",
    "[(x, prime(x)) for x in range(1, 21)]"
   ]
  },
  {
   "cell_type": "code",
   "execution_count": 67,
   "metadata": {},
   "outputs": [
    {
     "name": "stdout",
     "output_type": "stream",
     "text": [
      "output:\n",
      "3\n",
      "output:\n",
      "4\n",
      "output:\n",
      "4\n"
     ]
    }
   ],
   "source": [
    "n = 1 \n",
    "while n < 3:\n",
    "    m = n + 1\n",
    "    while m < 4:\n",
    "        m += 1\n",
    "        print('output:')\n",
    "        print(m)\n",
    "    n+= 1"
   ]
  },
  {
   "cell_type": "code",
   "execution_count": 68,
   "metadata": {},
   "outputs": [
    {
     "name": "stdout",
     "output_type": "stream",
     "text": [
      "6\n",
      "6\n"
     ]
    }
   ],
   "source": [
    "# python decorators\n",
    "def repeater(old_function):\n",
    "    \n",
    "    def new_function(*args, **kwds):\n",
    "        old_function(*args, **kwds)\n",
    "        old_function(*args, **kwds)\n",
    "    \n",
    "    return new_function\n",
    "\n",
    "@repeater\n",
    "def multiply(num1, num2):\n",
    "    print(num1 * num2)\n",
    "\n",
    "multiply(2, 3)"
   ]
  },
  {
   "cell_type": "code",
   "execution_count": 69,
   "metadata": {},
   "outputs": [],
   "source": [
    "\"\"\"\n",
    "This problem was asked by Google.\n",
    "\n",
    "A girl is walking along an apple orchard with a bag in each hand. She likes to pick \n",
    "apples from each tree as she goes along, but is meticulous about not putting different \n",
    "kinds of apples in the same bag.\n",
    "\n",
    "Given an input describing the types of apples she will pass on her path, in order, \n",
    "determine the length of the longest portion of her path that consists of just two types \n",
    "of apple trees.\n",
    "\n",
    "For example, given the input [2, 1, 2, 3, 3, 1, 3, 5], the longest portion will involve \n",
    "types 1 and 3, with a length of four.\n",
    "\n",
    "\"\"\"\n",
    "lst = [2, 1, 2, 3, 3, 1, 3, 5]"
   ]
  },
  {
   "cell_type": "code",
   "execution_count": 70,
   "metadata": {},
   "outputs": [
    {
     "data": {
      "text/plain": [
       "[3, 4, 6]"
      ]
     },
     "execution_count": 70,
     "metadata": {},
     "output_type": "execute_result"
    }
   ],
   "source": [
    "[i for i, e in enumerate(lst) if e == 3]"
   ]
  },
  {
   "cell_type": "code",
   "execution_count": 71,
   "metadata": {},
   "outputs": [
    {
     "data": {
      "text/plain": [
       "{1, 2, 3, 5}"
      ]
     },
     "execution_count": 71,
     "metadata": {},
     "output_type": "execute_result"
    }
   ],
   "source": [
    "set(lst)"
   ]
  },
  {
   "cell_type": "code",
   "execution_count": 72,
   "metadata": {},
   "outputs": [
    {
     "data": {
      "text/plain": [
       "{1: [1, 5], 2: [0, 2], 3: [3, 4, 6], 5: [7]}"
      ]
     },
     "execution_count": 72,
     "metadata": {},
     "output_type": "execute_result"
    }
   ],
   "source": [
    "apple_dict = {}\n",
    "for x in set(lst):\n",
    "    apple_dict[x] = [i for i, e in enumerate(lst) if e == x]\n",
    "apple_dict"
   ]
  },
  {
   "cell_type": "code",
   "execution_count": 73,
   "metadata": {},
   "outputs": [
    {
     "data": {
      "text/plain": [
       "{1: 4, 2: 2, 3: 3, 5: 0}"
      ]
     },
     "execution_count": 73,
     "metadata": {},
     "output_type": "execute_result"
    }
   ],
   "source": [
    "apple_lengths = {}\n",
    "for x in apple_dict:\n",
    "    apple_lengths[x] = abs(apple_dict[x][0] - apple_dict[x][-1])\n",
    "apple_lengths"
   ]
  },
  {
   "cell_type": "code",
   "execution_count": 74,
   "metadata": {},
   "outputs": [
    {
     "data": {
      "text/plain": [
       "dict_items([(1, 4), (2, 2), (3, 3), (5, 0)])"
      ]
     },
     "execution_count": 74,
     "metadata": {},
     "output_type": "execute_result"
    }
   ],
   "source": [
    "apple_lengths.items()"
   ]
  },
  {
   "cell_type": "code",
   "execution_count": 75,
   "metadata": {},
   "outputs": [
    {
     "data": {
      "text/plain": [
       "{1: 4, 3: 3, 2: 2, 5: 0}"
      ]
     },
     "execution_count": 75,
     "metadata": {},
     "output_type": "execute_result"
    }
   ],
   "source": [
    "apple_lengths_sorted = {k: v for k, v in sorted(apple_lengths.items(), key = lambda item: item[1], reverse=True)}\n",
    "apple_lengths_sorted"
   ]
  },
  {
   "cell_type": "code",
   "execution_count": 76,
   "metadata": {},
   "outputs": [
    {
     "data": {
      "text/plain": [
       "{1: 4, 3: 3}"
      ]
     },
     "execution_count": 76,
     "metadata": {},
     "output_type": "execute_result"
    }
   ],
   "source": [
    "import itertools as itr\n",
    "dict(itr.islice(apple_lengths_sorted.items(), 2))"
   ]
  },
  {
   "cell_type": "code",
   "execution_count": 77,
   "metadata": {},
   "outputs": [
    {
     "data": {
      "text/plain": [
       "[1, 3]"
      ]
     },
     "execution_count": 77,
     "metadata": {},
     "output_type": "execute_result"
    }
   ],
   "source": [
    "def longest_pass(lst):\n",
    "    lst_dict = {}\n",
    "    for x in set(lst):\n",
    "        lst_dict[x] = [i for i, e in enumerate(lst) if e == x]\n",
    "    \n",
    "    lst_lengths = {}\n",
    "    for x in lst_dict:\n",
    "        lst_lengths[x] = abs(lst_dict[x][0] - lst_dict[x][-1])\n",
    "        \n",
    "    lst_lenghts_sorted = {k: v for k, v in sorted(lst_lengths.items(), key = lambda item: item[1], reverse = True)}\n",
    "    \n",
    "    import itertools as itr\n",
    "    return list(dict(itr.islice(lst_lenghts_sorted.items(), 2)).keys())\n",
    "\n",
    "longest_pass(lst)"
   ]
  },
  {
   "cell_type": "code",
   "execution_count": 78,
   "metadata": {},
   "outputs": [
    {
     "data": {
      "text/plain": [
       "[1, 2]"
      ]
     },
     "execution_count": 78,
     "metadata": {},
     "output_type": "execute_result"
    }
   ],
   "source": [
    "lst = [1, 2, 3, 2, 1, 2, 5]\n",
    "longest_pass(lst)"
   ]
  },
  {
   "cell_type": "code",
   "execution_count": 79,
   "metadata": {},
   "outputs": [
    {
     "data": {
      "image/png": "[encoded data removed]",
      "text/plain": [
       "<Figure size 432x288 with 1 Axes>"
      ]
     },
     "metadata": {
      "needs_background": "light"
     },
     "output_type": "display_data"
    }
   ],
   "source": [
    "def norm(n):\n",
    "    \"\"\"\n",
    "    This question was asked by: Google\n",
    "\n",
    "    Write a function to generate N samples from a normal distribution and plot the histogram.\n",
    "    \"\"\"\n",
    "    import numpy as np\n",
    "    ndist = np.random.normal(size = n)\n",
    "    import matplotlib.pyplot as plt\n",
    "    plt.hist(ndist);\n",
    "    \n",
    "norm(10000)"
   ]
  },
  {
   "cell_type": "code",
   "execution_count": 80,
   "metadata": {},
   "outputs": [
    {
     "data": {
      "image/png": "[encoded data removed]",
      "text/plain": [
       "<Figure size 432x288 with 1 Axes>"
      ]
     },
     "metadata": {
      "needs_background": "light"
     },
     "output_type": "display_data"
    }
   ],
   "source": [
    "def norm(mean, stdev, n):\n",
    "    import numpy as np\n",
    "    ndist = np.random.normal(mean, stdev, n)\n",
    "    import matplotlib.pyplot as plt\n",
    "    plt.hist(ndist);\n",
    "    \n",
    "norm(100, 10, 10000)"
   ]
  },
  {
   "cell_type": "code",
   "execution_count": 81,
   "metadata": {},
   "outputs": [
    {
     "data": {
      "text/plain": [
       "[-9, -3, 1, 1.5, 4]"
      ]
     },
     "execution_count": 81,
     "metadata": {},
     "output_type": "execute_result"
    }
   ],
   "source": [
    "# redo bubble sort\n",
    "def bubble(arr):\n",
    "    swapped = True\n",
    "    while swapped:\n",
    "        swapped = False\n",
    "        for i in range(len(arr)-1):\n",
    "            if arr[i] > arr[i+1]:\n",
    "                arr[i], arr[i+1] = arr[i+1], arr[i]\n",
    "                swapped = True\n",
    "\n",
    "arr = [1, -3, -9, 4, 1.5]\n",
    "bubble(arr)\n",
    "arr"
   ]
  },
  {
   "cell_type": "code",
   "execution_count": 82,
   "metadata": {},
   "outputs": [
    {
     "data": {
      "text/plain": [
       "1602"
      ]
     },
     "execution_count": 82,
     "metadata": {},
     "output_type": "execute_result"
    }
   ],
   "source": [
    "# Russian Peasant Multiplication\n",
    "def rpm(m, n):\n",
    "    half = True\n",
    "    halves = [m]\n",
    "    while half:\n",
    "        half = False\n",
    "        m = m // 2\n",
    "        halves.append(m)\n",
    "        if m != 1:\n",
    "            half = True\n",
    "        else:\n",
    "            half = False\n",
    "    doubles = [n]\n",
    "    for _ in range(len(halves)-1):\n",
    "        n *= 2\n",
    "        doubles.append(n)\n",
    "        \n",
    "    idx = []\n",
    "    for i in range(len(halves)):\n",
    "        if halves[i] % 2 != 0:\n",
    "            idx.append(i)\n",
    "    \n",
    "    ans = 0\n",
    "    for i in idx:\n",
    "        ans += doubles[i]\n",
    "    \n",
    "    return ans\n",
    "    \n",
    "rpm(89, 18)    "
   ]
  },
  {
   "cell_type": "code",
   "execution_count": 83,
   "metadata": {},
   "outputs": [
    {
     "data": {
      "text/plain": [
       "60"
      ]
     },
     "execution_count": 83,
     "metadata": {},
     "output_type": "execute_result"
    }
   ],
   "source": [
    "rpm(12, 5)"
   ]
  },
  {
   "cell_type": "code",
   "execution_count": 84,
   "metadata": {},
   "outputs": [
    {
     "data": {
      "text/plain": [
       "'1010'"
      ]
     },
     "execution_count": 84,
     "metadata": {},
     "output_type": "execute_result"
    }
   ],
   "source": [
    "# binary expansion\n",
    "def binary(num):\n",
    "    half = True\n",
    "    halves = [num]\n",
    "    while half:\n",
    "        half = False\n",
    "        num = num // 2\n",
    "        halves.append(num)\n",
    "        if num != 1:\n",
    "            half = True\n",
    "        else:\n",
    "            half = False\n",
    "\n",
    "    return ''.join(map(str, [x % 2 for x in halves][::-1]))\n",
    "\n",
    "binary(10)"
   ]
  },
  {
   "cell_type": "code",
   "execution_count": 85,
   "metadata": {},
   "outputs": [
    {
     "data": {
      "text/plain": [
       "'1011001'"
      ]
     },
     "execution_count": 85,
     "metadata": {},
     "output_type": "execute_result"
    }
   ],
   "source": [
    "binary(89)"
   ]
  },
  {
   "cell_type": "code",
   "execution_count": 86,
   "metadata": {},
   "outputs": [
    {
     "name": "stdout",
     "output_type": "stream",
     "text": [
      "Binary of 10 is: 1010\n",
      "Binary of 89 is: 1011001\n"
     ]
    }
   ],
   "source": [
    "# Check binary of 10 and 89\n",
    "print(f'Binary of 10 is: {bin(10)[2:]}')\n",
    "print(f'Binary of 89 is: {bin(89)[2:]}')"
   ]
  },
  {
   "cell_type": "code",
   "execution_count": 87,
   "metadata": {},
   "outputs": [
    {
     "data": {
      "text/plain": [
       "[1, 4, 9, 16, 25, 36, 49, 64, 81, 100]"
      ]
     },
     "execution_count": 87,
     "metadata": {},
     "output_type": "execute_result"
    }
   ],
   "source": [
    "# mapping function map(func, iter)\n",
    "def func(x):\n",
    "    return x ** 2\n",
    "\n",
    "list(map(func, [x for x in range(1, 11)]))"
   ]
  },
  {
   "cell_type": "code",
   "execution_count": 88,
   "metadata": {},
   "outputs": [
    {
     "name": "stdout",
     "output_type": "stream",
     "text": [
      "List Join: 1-2-3-4-5\n",
      "Tupple Join: Happy Birthday\n",
      "Dict keys join: Name City\n",
      "Dict values join: Joe SF\n",
      "Dict key val combo join: Name: Joe, City: SF\n"
     ]
    }
   ],
   "source": [
    "# .join() review\n",
    "l1 = ['1', '2', '3', '4', '5']\n",
    "s = '-'\n",
    "s = s.join(l1)\n",
    "print(f'List Join: {s}')\n",
    "tup1 = ('Happy', 'Birthday')\n",
    "t = ' '\n",
    "t = t.join(tup1)\n",
    "print(f'Tupple Join: {t}')\n",
    "u = {'Name': 'Joe', 'City': 'SF'}\n",
    "print(f'Dict keys join: {\" \".join(u)}')\n",
    "print(f'Dict values join: {\" \".join(u.values())}')\n",
    "print(f'Dict key val combo join: {\", \".join(\": \".join((key, val)) for (key, val) in u.items())}')"
   ]
  },
  {
   "cell_type": "code",
   "execution_count": 89,
   "metadata": {},
   "outputs": [],
   "source": [
    "\"\"\"\n",
    "This problem was asked by Square.\n",
    "\n",
    "The Sieve of Eratosthenes is an algorithm used to generate all prime numbers \n",
    "smaller than N. The method is to take increasingly larger prime numbers, and \n",
    "mark their multiples as composite.\n",
    "\n",
    "For example, to find all primes less than 100, we would first mark [4, 6, 8, ...] \n",
    "(multiples of two), then [6, 9, 12, ...] (multiples of three), and so on. \n",
    "Once we have done this for all primes less than N, the unmarked numbers that \n",
    "remain will be prime.\n",
    "\n",
    "Implement this algorithm.\n",
    "\n",
    "Bonus: Create a generator that produces primes indefinitely (that is, without taking N as an input).\n",
    "\"\"\"\n",
    "def prime_sieve(n):\n",
    "    s = [x for x in range(2, n+1)]\n",
    "    shortened = True\n",
    "    first = s[0]\n",
    "    counter = 0\n",
    "    \n",
    "    while shortened:\n",
    "        before_len = len(s)\n",
    "        \n",
    "        unwanted = {x for x in range(first, n+1, first)}\n",
    "        \n",
    "        s = [x for x in s if x not in unwanted]\n",
    "                    \n",
    "        s.insert(counter, first)\n",
    "        \n",
    "        counter += 1\n",
    "        \n",
    "        first = s[counter]\n",
    "        \n",
    "        after_len = len(s)\n",
    "        \n",
    "        if before_len > after_len:\n",
    "            shortened = True\n",
    "        else:\n",
    "            shortened = False\n",
    "            \n",
    "    return s"
   ]
  },
  {
   "cell_type": "code",
   "execution_count": 90,
   "metadata": {},
   "outputs": [
    {
     "data": {
      "text/plain": [
       "[2, 3, 5, 7, 11, 13, 17, 19, 23, 29, 31]"
      ]
     },
     "execution_count": 90,
     "metadata": {},
     "output_type": "execute_result"
    }
   ],
   "source": [
    "prime_sieve(31)"
   ]
  },
  {
   "cell_type": "code",
   "execution_count": 91,
   "metadata": {},
   "outputs": [
    {
     "data": {
      "text/plain": [
       "[-39, -1, 46, 90]"
      ]
     },
     "execution_count": 91,
     "metadata": {},
     "output_type": "execute_result"
    }
   ],
   "source": [
    "# Bubble Sort\n",
    "def bubble(arr):\n",
    "    swap = True\n",
    "    while swap:\n",
    "        swap = False\n",
    "        for i in range(len(arr)-1):\n",
    "            if arr[i] > arr[i+1]:\n",
    "                arr[i], arr[i+1] = arr[i+1], arr[i]\n",
    "                swap = True\n",
    "    return arr\n",
    "\n",
    "bubble([-1, -39, 90, 46])"
   ]
  },
  {
   "cell_type": "code",
   "execution_count": 92,
   "metadata": {},
   "outputs": [
    {
     "data": {
      "text/plain": [
       "6"
      ]
     },
     "execution_count": 92,
     "metadata": {},
     "output_type": "execute_result"
    }
   ],
   "source": [
    "# running median\n",
    "# [2, 1, 5] returns [2, 1.5, 2] or print out as new lines of each element \n",
    "\n",
    "def running_median(arr):\n",
    "    \n",
    "    def bubble_sort(arr):\n",
    "        swapped = True\n",
    "        while swapped:\n",
    "            swapped = False\n",
    "            for i in range(len(arr)-1):\n",
    "                if arr[i] > arr[i+1]:\n",
    "                    arr[i], arr[i+1] = arr[i+1], arr[i]\n",
    "                    swapped = True\n",
    "        return arr\n",
    "    \n",
    "    arr = bubble_sort(arr)\n",
    "    \n",
    "    def med(arr):\n",
    "        if len(arr) % 2 == 0:\n",
    "            return (arr[len(arr)//2-1] + arr[len(arr)//2]) / 2\n",
    "        else:\n",
    "            return arr[len(arr)//2]\n",
    "    \n",
    "#     ans = []\n",
    "#     for i in range(len(arr)):\n",
    "#         ans.append(med(arr[:i]))\n",
    "    \n",
    "    return med(arr)\n",
    "\n",
    "running_median([6, 9, 3])"
   ]
  },
  {
   "cell_type": "code",
   "execution_count": 93,
   "metadata": {},
   "outputs": [
    {
     "data": {
      "text/plain": [
       "[-3, 1, 5]"
      ]
     },
     "execution_count": 93,
     "metadata": {},
     "output_type": "execute_result"
    }
   ],
   "source": [
    "arr = [1, -3, 5]\n",
    "arr.sort()\n",
    "arr"
   ]
  },
  {
   "cell_type": "code",
   "execution_count": 94,
   "metadata": {},
   "outputs": [
    {
     "data": {
      "text/plain": [
       "[-3, 1, 5]"
      ]
     },
     "execution_count": 94,
     "metadata": {},
     "output_type": "execute_result"
    }
   ],
   "source": [
    "arr = [1, -3, 5]\n",
    "sorted(arr)"
   ]
  },
  {
   "cell_type": "code",
   "execution_count": 95,
   "metadata": {},
   "outputs": [
    {
     "data": {
      "text/plain": [
       "1"
      ]
     },
     "execution_count": 95,
     "metadata": {},
     "output_type": "execute_result"
    }
   ],
   "source": [
    "arr = [1, -3, 5]\n",
    "len(arr)//2"
   ]
  },
  {
   "cell_type": "code",
   "execution_count": 96,
   "metadata": {},
   "outputs": [
    {
     "data": {
      "text/plain": [
       "2"
      ]
     },
     "execution_count": 96,
     "metadata": {},
     "output_type": "execute_result"
    }
   ],
   "source": [
    "arr = [1, -3, 5, 10]\n",
    "len(arr)//2"
   ]
  },
  {
   "cell_type": "code",
   "execution_count": 97,
   "metadata": {},
   "outputs": [
    {
     "data": {
      "text/plain": [
       "'too'"
      ]
     },
     "execution_count": 97,
     "metadata": {},
     "output_type": "execute_result"
    }
   ],
   "source": [
    "sent1 = 'i am happy'\n",
    "sent2 = 'i am happy too'\n",
    "def diff(sent1, sent2):\n",
    "    lst_sent1 = sent1.split(' ')\n",
    "    lst_sent2 = sent2.split(' ')\n",
    "    \n",
    "    dict_sents = {}\n",
    "    \n",
    "    for word in lst_sent1:\n",
    "        if word in dict_sents:\n",
    "            dict_sents[word] += 1\n",
    "        else:\n",
    "            dict_sents[word] = 1\n",
    "    \n",
    "    for word in lst_sent2:\n",
    "        if word in dict_sents:\n",
    "            dict_sents[word] += 1\n",
    "        else:\n",
    "            dict_sents[word] = 1\n",
    "    \n",
    "    for x in dict_sents:\n",
    "        if dict_sents[x] == 1:\n",
    "            return x\n",
    "\n",
    "diff(sent1, sent2)"
   ]
  },
  {
   "cell_type": "code",
   "execution_count": 98,
   "metadata": {},
   "outputs": [
    {
     "data": {
      "text/plain": [
       "[2, 3, 5, 7, 11, 13, 17, 19, 23, 29]"
      ]
     },
     "execution_count": 98,
     "metadata": {},
     "output_type": "execute_result"
    }
   ],
   "source": [
    "def prime(n):\n",
    "    \"\"\"\n",
    "    Returns first n prime numbers in a python list\n",
    "    \"\"\"\n",
    "    def check_prime(num):\n",
    "        num_lst = [(num % x) for x in range(2,num)]\n",
    "        return 0 in num_lst\n",
    "    \n",
    "    if n < 1:\n",
    "        return 'n needs to be >= 1'\n",
    "    \n",
    "    counter = 0\n",
    "    ans = []\n",
    "    p_num = 2\n",
    "    while counter < n:\n",
    "        if not check_prime(p_num):\n",
    "            ans.append(p_num)\n",
    "            counter += 1\n",
    "        p_num += 1\n",
    "    return ans\n",
    "\n",
    "prime(10)      "
   ]
  },
  {
   "cell_type": "code",
   "execution_count": 99,
   "metadata": {},
   "outputs": [
    {
     "data": {
      "text/plain": [
       "True"
      ]
     },
     "execution_count": 99,
     "metadata": {},
     "output_type": "execute_result"
    }
   ],
   "source": [
    "def check_prime(num):\n",
    "    num_lst = [(num % x) for x in range(2,num)]\n",
    "    return 0 in num_lst\n",
    "\n",
    "check_prime(10)"
   ]
  },
  {
   "cell_type": "code",
   "execution_count": 100,
   "metadata": {},
   "outputs": [
    {
     "data": {
      "text/plain": [
       "False"
      ]
     },
     "execution_count": 100,
     "metadata": {},
     "output_type": "execute_result"
    }
   ],
   "source": [
    "0 in [(13 % x) for x in range(2,13)]"
   ]
  },
  {
   "cell_type": "code",
   "execution_count": 101,
   "metadata": {},
   "outputs": [
    {
     "data": {
      "text/plain": [
       "True"
      ]
     },
     "execution_count": 101,
     "metadata": {},
     "output_type": "execute_result"
    }
   ],
   "source": [
    "def prime(num):\n",
    "    return not (0 in [num % x for x in range(2, num)])\n",
    "\n",
    "prime(5)"
   ]
  },
  {
   "cell_type": "code",
   "execution_count": 102,
   "metadata": {},
   "outputs": [
    {
     "data": {
      "text/plain": [
       "[1, 1, 2, 3, 5, 8, 13, 21, 34, 55]"
      ]
     },
     "execution_count": 102,
     "metadata": {},
     "output_type": "execute_result"
    }
   ],
   "source": [
    "def fib(n):\n",
    "    if n == 1:\n",
    "        return 1\n",
    "    elif n == 2:\n",
    "        return 1\n",
    "    else:\n",
    "        return fib(n-1) + fib(n-2)\n",
    "\n",
    "[fib(x) for x in range(1, 11)]"
   ]
  },
  {
   "cell_type": "code",
   "execution_count": 103,
   "metadata": {},
   "outputs": [
    {
     "data": {
      "text/plain": [
       "True"
      ]
     },
     "execution_count": 103,
     "metadata": {},
     "output_type": "execute_result"
    }
   ],
   "source": [
    "def palindrome(string):\n",
    "    return string == string[::-1]\n",
    "\n",
    "palindrome('1acbbca1')"
   ]
  },
  {
   "cell_type": "code",
   "execution_count": 104,
   "metadata": {},
   "outputs": [
    {
     "data": {
      "text/plain": [
       "'too'"
      ]
     },
     "execution_count": 104,
     "metadata": {},
     "output_type": "execute_result"
    }
   ],
   "source": [
    "def extra_word(sent1, sent2):\n",
    "    word_dict = {}\n",
    "    \n",
    "    for x in sent1.split(' '):\n",
    "        if x not in word_dict:\n",
    "            word_dict[x] = 1\n",
    "        else:\n",
    "            word_dict[x] += 1\n",
    "            \n",
    "    for x in sent2.split(' '):\n",
    "        if x not in word_dict:\n",
    "            word_dict[x] = 1\n",
    "        else:\n",
    "            word_dict[x] += 1\n",
    "    \n",
    "    for x in word_dict:\n",
    "        if word_dict[x] == 1:\n",
    "            return x\n",
    "\n",
    "extra_word('i am happy', 'i am happy too')"
   ]
  },
  {
   "cell_type": "code",
   "execution_count": 105,
   "metadata": {},
   "outputs": [
    {
     "data": {
      "text/plain": [
       "'man'"
      ]
     },
     "execution_count": 105,
     "metadata": {},
     "output_type": "execute_result"
    }
   ],
   "source": [
    "extra_word('i am happy too', 'i am happy too man')"
   ]
  },
  {
   "cell_type": "code",
   "execution_count": 106,
   "metadata": {},
   "outputs": [
    {
     "data": {
      "text/plain": [
       "'okay'"
      ]
     },
     "execution_count": 106,
     "metadata": {},
     "output_type": "execute_result"
    }
   ],
   "source": [
    "extra_word('i too am happy okay', 'i am happy too')"
   ]
  },
  {
   "cell_type": "code",
   "execution_count": 107,
   "metadata": {},
   "outputs": [
    {
     "data": {
      "text/plain": [
       "[-8, -4, -3, -1, 3]"
      ]
     },
     "execution_count": 107,
     "metadata": {},
     "output_type": "execute_result"
    }
   ],
   "source": [
    "def bubble_sort(lst):\n",
    "    swapped = True\n",
    "    while swapped:\n",
    "        swapped = False\n",
    "        for i in range(len(lst)-1):\n",
    "            if lst[i] > lst[i+1]:\n",
    "                lst[i], lst[i+1] = lst[i+1], lst[i]\n",
    "                swapped = True\n",
    "    return lst\n",
    "\n",
    "bubble_sort([-1, -3, -4, -8, 3])"
   ]
  },
  {
   "cell_type": "code",
   "execution_count": 108,
   "metadata": {},
   "outputs": [
    {
     "data": {
      "text/plain": [
       "[2, 3, 5, 7, 11, 13, 17, 19, 23, 29, 31, 37, 41, 43, 47, 53, 59, 61, 67, 71]"
      ]
     },
     "execution_count": 108,
     "metadata": {},
     "output_type": "execute_result"
    }
   ],
   "source": [
    "def n_primes(n):\n",
    "    \"\"\"\n",
    "    n: integer greater than 1\n",
    "    \"\"\"\n",
    "    if n < 1:\n",
    "        return print('Enter integer greater than or equal to 1')\n",
    "    \n",
    "    elif type(n) != int:\n",
    "        return print('Enter integer')\n",
    "    \n",
    "    def is_prime(num):\n",
    "        return not (0 in [(num % x) for x in range(2, num)])\n",
    "    \n",
    "    counter = 1\n",
    "    ans = []\n",
    "    number = 2\n",
    "    while counter <= n:\n",
    "        if is_prime(number):\n",
    "            ans.append(number)\n",
    "            number += 1\n",
    "            counter += 1\n",
    "        else:\n",
    "            number += 1\n",
    "    return ans\n",
    "\n",
    "n_primes(20)"
   ]
  },
  {
   "cell_type": "code",
   "execution_count": 109,
   "metadata": {},
   "outputs": [
    {
     "data": {
      "text/plain": [
       "True"
      ]
     },
     "execution_count": 109,
     "metadata": {},
     "output_type": "execute_result"
    }
   ],
   "source": [
    "type(2) == int"
   ]
  },
  {
   "cell_type": "code",
   "execution_count": 110,
   "metadata": {},
   "outputs": [
    {
     "name": "stdout",
     "output_type": "stream",
     "text": [
      "23\n",
      "13\n",
      "12\n"
     ]
    }
   ],
   "source": [
    "str1 = '123'\n",
    "for i in range(len(str1)):\n",
    "    print(int(str1[:i] + str1[i+1:]))"
   ]
  },
  {
   "cell_type": "code",
   "execution_count": 111,
   "metadata": {},
   "outputs": [
    {
     "data": {
      "text/plain": [
       "'true'"
      ]
     },
     "execution_count": 111,
     "metadata": {},
     "output_type": "execute_result"
    }
   ],
   "source": [
    "def eraseOneDigit(firstnum, secondnum, thirdnum):\n",
    "    first_lst = []\n",
    "    for i in range(len(firstnum)):\n",
    "        first_lst.append(int(firstnum[:i] + firstnum[i+1:]))\n",
    "        \n",
    "    ans = []\n",
    "    for num in first_lst:\n",
    "        if (num + int(secondnum)) == int(thirdnum):\n",
    "            ans.append('true')\n",
    "        else:\n",
    "            ans.append('false')\n",
    "    \n",
    "    # return first_lst\n",
    "    if 'true' in ans:\n",
    "        return 'true'\n",
    "    else:\n",
    "        return 'false'\n",
    "\n",
    "eraseOneDigit('123', '59', '82')"
   ]
  },
  {
   "cell_type": "code",
   "execution_count": 112,
   "metadata": {},
   "outputs": [
    {
     "data": {
      "text/plain": [
       "True"
      ]
     },
     "execution_count": 112,
     "metadata": {},
     "output_type": "execute_result"
    }
   ],
   "source": [
    "\"\"\"\n",
    "\n",
    "Codewriting\n",
    "\n",
    "You are given three integers in the form of strings: firstnum, secondnum, and thirdnum. Your task is to check whether it is possible to erase at most one digit from firstnum, so that the resulting string contains at least one digit, has no leading zeros and the value of thirdnum is equal to the sum of the values of firstnum and secondnum.\n",
    "\n",
    "Return true if it's possible, otherwise return false.\n",
    "\n",
    "Note: All three strings are provided without leading zeros.\n",
    "\n",
    "\"\"\"\n",
    "\n",
    "\n",
    "def eraseOneDigit(firstnum, secondnum, thirdnum):\n",
    "    first_lst = []\n",
    "    if int(firstnum) + int(secondnum) == int(thirdnum):\n",
    "        return True\n",
    "    for i in range(len(firstnum)):\n",
    "        if len(str(int(firstnum[:i] + firstnum[i+1:]))) == (len(firstnum) - 1):\n",
    "            first_lst.append(int(firstnum[:i] + firstnum[i+1:]))\n",
    "        \n",
    "    ans = []\n",
    "    for num in first_lst:\n",
    "        if (num + int(secondnum)) == int(thirdnum):\n",
    "            ans.append('true')\n",
    "        else:\n",
    "            ans.append('false')\n",
    "    return first_lst[0] + int(secondnum)    \n",
    "#     if 'true' in ans:\n",
    "#         return True\n",
    "#     else:\n",
    "#         return False\n",
    "\n",
    "eraseOneDigit('153', '153', '306')"
   ]
  },
  {
   "cell_type": "code",
   "execution_count": 113,
   "metadata": {},
   "outputs": [
    {
     "data": {
      "text/plain": [
       "'DoG RuNS'"
      ]
     },
     "execution_count": 113,
     "metadata": {},
     "output_type": "execute_result"
    }
   ],
   "source": [
    "sent = 'rUns dOg'\n",
    "def func_sent_swaps(sent):\n",
    "    sent_rev = sent.split(' ')[::-1]\n",
    "    sent_ans = []\n",
    "    for word in sent_rev:\n",
    "        ans_word = ''\n",
    "        for l in word:\n",
    "            if l.isupper():\n",
    "                ans_word += l.lower()\n",
    "            else:\n",
    "                ans_word += l.upper()\n",
    "        sent_ans.append(ans_word)\n",
    "    return ' '.join(sent_ans)\n",
    "\n",
    "func_sent_swaps(sent)"
   ]
  },
  {
   "cell_type": "code",
   "execution_count": 114,
   "metadata": {},
   "outputs": [
    {
     "data": {
      "text/plain": [
       "True"
      ]
     },
     "execution_count": 114,
     "metadata": {},
     "output_type": "execute_result"
    }
   ],
   "source": [
    "'U'.isupper()"
   ]
  },
  {
   "cell_type": "code",
   "execution_count": 115,
   "metadata": {},
   "outputs": [
    {
     "data": {
      "text/plain": [
       "'RuNS'"
      ]
     },
     "execution_count": 115,
     "metadata": {},
     "output_type": "execute_result"
    }
   ],
   "source": [
    "ans_word = ''\n",
    "for l in sent.split(' ')[0]:\n",
    "    if l.isupper():\n",
    "        ans_word += l.lower()\n",
    "    else:\n",
    "        ans_word += l.upper()\n",
    "ans_word"
   ]
  },
  {
   "cell_type": "code",
   "execution_count": 116,
   "metadata": {},
   "outputs": [
    {
     "data": {
      "text/plain": [
       "'rUns'"
      ]
     },
     "execution_count": 116,
     "metadata": {},
     "output_type": "execute_result"
    }
   ],
   "source": [
    "sent.split(' ')[0]"
   ]
  },
  {
   "cell_type": "code",
   "execution_count": 117,
   "metadata": {},
   "outputs": [
    {
     "data": {
      "text/plain": [
       "'Coding IS Awesome'"
      ]
     },
     "execution_count": 117,
     "metadata": {},
     "output_type": "execute_result"
    }
   ],
   "source": [
    "sent = 'aWESOME is cODING'\n",
    "func_sent_swaps(sent)"
   ]
  },
  {
   "cell_type": "code",
   "execution_count": 118,
   "metadata": {},
   "outputs": [],
   "source": [
    "class Multiset:\n",
    "    \"\"\"\n",
    "    A multiset is a set with multiple identical elements\n",
    "    \"\"\"\n",
    "    def __init__(self):\n",
    "        self.arr = []\n",
    "    \n",
    "    def add(self, val):\n",
    "        return self.arr.append(val)\n",
    "    \n",
    "    def remove(self, val):\n",
    "        if self.arr.count(val) != 0:\n",
    "            return self.arr.remove(val)\n",
    "        \n",
    "    def __contains__(self, val):\n",
    "        return val in self.arr\n",
    "    \n",
    "    def __len__(self):\n",
    "        return len(self.arr)"
   ]
  },
  {
   "cell_type": "code",
   "execution_count": 119,
   "metadata": {},
   "outputs": [],
   "source": [
    "ms1 = Multiset()"
   ]
  },
  {
   "cell_type": "code",
   "execution_count": 120,
   "metadata": {},
   "outputs": [],
   "source": [
    "ms1.add(1)\n",
    "ms1.add(2)\n",
    "ms1.add(3)\n",
    "ms1.add(4)"
   ]
  },
  {
   "cell_type": "code",
   "execution_count": 121,
   "metadata": {},
   "outputs": [],
   "source": [
    "ms1.remove(2)"
   ]
  },
  {
   "cell_type": "code",
   "execution_count": 122,
   "metadata": {},
   "outputs": [
    {
     "data": {
      "text/plain": [
       "True"
      ]
     },
     "execution_count": 122,
     "metadata": {},
     "output_type": "execute_result"
    }
   ],
   "source": [
    "ms1.__contains__(3)"
   ]
  },
  {
   "cell_type": "code",
   "execution_count": 123,
   "metadata": {},
   "outputs": [
    {
     "data": {
      "text/plain": [
       "3"
      ]
     },
     "execution_count": 123,
     "metadata": {},
     "output_type": "execute_result"
    }
   ],
   "source": [
    "ms1.__len__()"
   ]
  },
  {
   "cell_type": "code",
   "execution_count": 124,
   "metadata": {},
   "outputs": [
    {
     "name": "stdout",
     "output_type": "stream",
     "text": [
      "equilateral\n",
      "equilateral\n",
      "isosceles\n",
      "scalene\n",
      "no triangle\n"
     ]
    }
   ],
   "source": [
    "\"\"\"\n",
    "Check for triangle, whether equilateral, isosceles, or scalene\n",
    "\"\"\"\n",
    "def triangle(a, b, c):\n",
    "    \"\"\"\n",
    "    Inputs: a, b, c are sides of the triangle, in int or float\n",
    "    Outputs: ans in string of triangle classification or not possible\n",
    "    \"\"\"\n",
    "    if (a + b > c) and (a + c > b) and (b + c > a):\n",
    "        if (a == b) and (b == c):\n",
    "            return 'equilateral'\n",
    "        elif (a == b) or (b == c):\n",
    "            return 'isosceles'\n",
    "        else:\n",
    "            return 'scalene'\n",
    "    else:\n",
    "        return 'no triangle'\n",
    "\n",
    "print(triangle(2, 2, 2))\n",
    "print(triangle(3.5, 3.5, 3.5))\n",
    "print(triangle(2.5, 2.5, 1))\n",
    "print(triangle(1, 3, 3.5))\n",
    "print(triangle(1, 3, 4))"
   ]
  },
  {
   "cell_type": "code",
   "execution_count": null,
   "metadata": {},
   "outputs": [],
   "source": []
  },
  {
   "cell_type": "code",
   "execution_count": null,
   "metadata": {},
   "outputs": [],
   "source": []
  },
  {
   "cell_type": "code",
   "execution_count": null,
   "metadata": {},
   "outputs": [],
   "source": []
  },
  {
   "cell_type": "code",
   "execution_count": null,
   "metadata": {},
   "outputs": [],
   "source": []
  },
  {
   "cell_type": "code",
   "execution_count": 125,
   "metadata": {},
   "outputs": [],
   "source": [
    "\"\"\"\n",
    "Diagonal rectangle problem\n",
    "\"\"\"\n",
    "matrix = [[1,2,3,4,0]\n",
    "          , [5,6,7,8,1]\n",
    "          , [3,2,4,1,4]\n",
    "          , [4,3,5,1,6]\n",
    "         ]\n",
    "a = 2\n",
    "b = 3\n",
    "rows = len(matrix)-1\n",
    "cols = len(matrix[0])-1\n",
    "\n",
    "def rotatedRectSum(matrix, a, b):\n",
    "    rows = len(matrix)-1\n",
    "    cols = len(matrix[0])-1\n",
    "    \n",
    "    def check_left_a(matrix, i, j):\n",
    "        if (i+a-1<=cols) and (j-a+1 >=0):\n",
    "            return True\n",
    "        else:\n",
    "            return False\n",
    "        \n",
    "    def check_right_a(matrix, i, j):\n",
    "        if (i+a-1<=cols) and (j-a+1<=rows):\n",
    "            return True\n",
    "        else:\n",
    "            return False\n",
    "    \n",
    "    def check_left_b(matrix, i, j):\n",
    "        if (i+b-1<=cols) and (j-b+1 >=0):\n",
    "            return True\n",
    "        else:\n",
    "            return False\n",
    "        \n",
    "    def check_right_b(matrix, i, j):\n",
    "        if (i+b-1<=cols) and (j-b+1<=rows):\n",
    "            return True\n",
    "        else:\n",
    "            return False\n",
    "        \n",
    "    ...\n",
    "\n",
    "rotatedRectSum(matrix, a, b)"
   ]
  },
  {
   "cell_type": "code",
   "execution_count": 126,
   "metadata": {},
   "outputs": [
    {
     "data": {
      "text/plain": [
       "True"
      ]
     },
     "execution_count": 126,
     "metadata": {},
     "output_type": "execute_result"
    }
   ],
   "source": [
    "def check_left_a(matrix, i, j):\n",
    "        if (i+a-1<=cols) and (j-a+1 >=0):\n",
    "            return True\n",
    "        else:\n",
    "            return False\n",
    "        \n",
    "def check_right_a(matrix, i, j):\n",
    "    if (i+a-1<=cols) and (j-a+1<=rows):\n",
    "        return True\n",
    "    else:\n",
    "        return False\n",
    "\n",
    "def check_left_b(matrix, i, j):\n",
    "    if (i+b-1<=cols) and (j-b+1 >=0):\n",
    "        return True\n",
    "    else:\n",
    "        return False\n",
    "\n",
    "def check_right_b(matrix, i, j):\n",
    "    if (i+b-1<=cols) and (j-b+1<=rows):\n",
    "        return True\n",
    "    else:\n",
    "        return False\n",
    "\n",
    "check_left_a(matrix, 0, 1)\n",
    "check_right_b(matrix, 1, 0)"
   ]
  },
  {
   "cell_type": "code",
   "execution_count": 127,
   "metadata": {},
   "outputs": [
    {
     "data": {
      "text/plain": [
       "True"
      ]
     },
     "execution_count": 127,
     "metadata": {},
     "output_type": "execute_result"
    }
   ],
   "source": [
    "'is' in 'island'"
   ]
  },
  {
   "cell_type": "code",
   "execution_count": 128,
   "metadata": {},
   "outputs": [
    {
     "data": {
      "text/plain": [
       "{149321: (14, 42, 503, 545), 384121: (10, 20, 100, 300)}"
      ]
     },
     "execution_count": 128,
     "metadata": {},
     "output_type": "execute_result"
    }
   ],
   "source": [
    "# TEKsystems Takehome 2021-09-22 Chi (David) Yu\n",
    "\n",
    "post_to_boxes = {\n",
    "    149321: [(34, 10, 215, 104)\n",
    "             , (14, 42, 503, 545)\n",
    "            ]\n",
    "    , 109334: []\n",
    "    , 384121: [(10, 20, 100, 300)]\n",
    "}\n",
    "def process_hero_box_annotations(post_to_boxes):\n",
    "    ans = {}\n",
    "    for ids in post_to_boxes:\n",
    "        for boxes in post_to_boxes[ids]:\n",
    "            x_min, y_min, x_max, y_max = 256, 256, 0, 0        \n",
    "            if len(boxes) != 0:\n",
    "                if boxes[0] < x_min:\n",
    "                    x_min = boxes[0]\n",
    "                if boxes[1] < y_min:\n",
    "                    y_min = boxes[1]\n",
    "                if boxes[2] > x_max:\n",
    "                    x_max = boxes[2]\n",
    "                if boxes[3] > y_max:\n",
    "                    y_max = boxes[3]\n",
    "            ans[ids] = (x_min, y_min, x_max, y_max)\n",
    "    return ans\n",
    "\n",
    "process_hero_box_annotations(post_to_boxes)"
   ]
  },
  {
   "cell_type": "code",
   "execution_count": 129,
   "metadata": {},
   "outputs": [
    {
     "data": {
      "text/plain": [
       "False"
      ]
     },
     "execution_count": 129,
     "metadata": {},
     "output_type": "execute_result"
    }
   ],
   "source": [
    "# asked on Egen's interview 2021-09-20\n",
    "\n",
    "lst = ['is', 'are', 'island', 'be', 'because']\n",
    "def camel(lst, word):\n",
    "    \"\"\"\n",
    "    Return True for all subwords in lst\n",
    "    Return False if subwords not in lst\n",
    "    \n",
    "    EX1: word = 'IsAreBe' returns True\n",
    "    EX2: word = 'islandIsBe' returns True\n",
    "    EX3: word = 'isAreBell' returns False\n",
    "    \n",
    "    \"\"\"\n",
    "    \n",
    "    def caps(word):\n",
    "        \n",
    "        idx_caps = []\n",
    "        for i in range(len(word)):\n",
    "            if word[i].islower():\n",
    "                idx_caps.append(0)\n",
    "            else:\n",
    "                idx_caps.append(1)\n",
    "        \n",
    "        idx_change = []        \n",
    "        for i in range(len(idx_caps)-1):\n",
    "            if (idx_caps[i] != idx_caps[i+1]) and (idx_caps[i] == 1):\n",
    "                idx_change.append(i)\n",
    "        \n",
    "        return idx_change\n",
    "    \n",
    "    cap_loc = caps(word)\n",
    "    \n",
    "    if cap_loc[0] != 0:\n",
    "        cap_loc = [0] + cap_loc + [len(word)]\n",
    "    else:\n",
    "        cap_loc = cap_loc + [len(word)]\n",
    "\n",
    "    ans = []\n",
    "\n",
    "    for i in range(len(cap_loc) - 1):\n",
    "        ans.append(word[cap_loc[i]:cap_loc[i+1]].lower() in lst)\n",
    "\n",
    "    return not False in ans\n",
    "    \n",
    "    \n",
    "        \n",
    "camel(lst, 'isAreBell')\n"
   ]
  },
  {
   "cell_type": "code",
   "execution_count": 130,
   "metadata": {},
   "outputs": [
    {
     "data": {
      "text/plain": [
       "[2, 3, 5, 7, 11, 13, 17, 19, 23, 29, 31]"
      ]
     },
     "execution_count": 130,
     "metadata": {},
     "output_type": "execute_result"
    }
   ],
   "source": [
    "def prime(n):\n",
    "    \"\"\"\n",
    "    Returns list of n prime numbers\n",
    "    \"\"\"\n",
    "    \n",
    "    def is_prime(x):\n",
    "        return 0 not in [x % num for num in range(2, x)]\n",
    "    \n",
    "    ans = []\n",
    "    count = 0\n",
    "    prime = 2\n",
    "    while count < n:\n",
    "        if is_prime(prime):\n",
    "            ans.append(prime)\n",
    "            count += 1\n",
    "        prime += 1\n",
    "    \n",
    "    return ans\n",
    "\n",
    "prime(11)"
   ]
  },
  {
   "cell_type": "code",
   "execution_count": 131,
   "metadata": {},
   "outputs": [
    {
     "data": {
      "text/plain": [
       "'too'"
      ]
     },
     "execution_count": 131,
     "metadata": {},
     "output_type": "execute_result"
    }
   ],
   "source": [
    "def extra_word(sent1, sent2):\n",
    "    lst1 = sent1.split(' ')\n",
    "    lst2 = sent2.split(' ')\n",
    "    \n",
    "    word_dict = {}\n",
    "    \n",
    "    for word in lst1:\n",
    "        if word not in word_dict:\n",
    "            word_dict[word] = 1\n",
    "        else:\n",
    "            word_dict[word] += 1\n",
    "    \n",
    "    for word in lst2:\n",
    "        if word not in word_dict:\n",
    "            word_dict[word] = 1\n",
    "        else:\n",
    "            word_dict[word] += 1\n",
    "    \n",
    "    for word in word_dict:\n",
    "        if word_dict[word] == 1:\n",
    "            return word\n",
    "    \n",
    "extra_word('I am happy', 'I am happy too')"
   ]
  },
  {
   "cell_type": "code",
   "execution_count": 132,
   "metadata": {},
   "outputs": [
    {
     "data": {
      "text/plain": [
       "[1, 1, 2, 3, 5, 8, 13, 21, 34, 55, 89, 144, 233, 377, 610]"
      ]
     },
     "execution_count": 132,
     "metadata": {},
     "output_type": "execute_result"
    }
   ],
   "source": [
    "def fib(n):\n",
    "    \"\"\"\n",
    "    Returns n fibonacci numbers\n",
    "    \"\"\"\n",
    "    def fib_(n): \n",
    "        if (n == 1) or (n == 2):\n",
    "            return 1\n",
    "        else: \n",
    "            return fib_(n-1) + fib_(n-2)\n",
    "    \n",
    "    return [fib_(x) for x in range(1, n+1)]\n",
    "\n",
    "fib(15)"
   ]
  },
  {
   "cell_type": "code",
   "execution_count": 133,
   "metadata": {},
   "outputs": [
    {
     "data": {
      "text/plain": [
       "[-14, -7, -6, -3, -2]"
      ]
     },
     "execution_count": 133,
     "metadata": {},
     "output_type": "execute_result"
    }
   ],
   "source": [
    "def sort_numbers(lst):\n",
    "    swapped = True\n",
    "    while swapped:\n",
    "        swapped = False\n",
    "        for i in range(len(lst)-1):\n",
    "            if lst[i] > lst[i+1]:\n",
    "                lst[i], lst[i+1] = lst[i+1], lst[i]\n",
    "                swapped = True\n",
    "    return lst\n",
    "\n",
    "sort_numbers([-3, -7, -6, -2, -14])"
   ]
  },
  {
   "cell_type": "code",
   "execution_count": 134,
   "metadata": {},
   "outputs": [
    {
     "data": {
      "text/plain": [
       "False"
      ]
     },
     "execution_count": 134,
     "metadata": {},
     "output_type": "execute_result"
    }
   ],
   "source": [
    "word_bank = ['is', 'able', 'be', 'become', 'happy', 'sad']\n",
    "word1 = 'IsAbleBe'\n",
    "word2 = 'isAbleBe'\n",
    "word3 = 'BecomeHappySad'\n",
    "word4 = 'AreYouSad'\n",
    "word5 = 'isAbleAre'\n",
    "\n",
    "def camel(word):\n",
    "    caps = []\n",
    "    for i in range(len(word)):\n",
    "        if word[i].isupper():\n",
    "            caps.append(i)\n",
    "    \n",
    "    ans = []\n",
    "    if caps[0] != 0:\n",
    "        caps = [0] + caps\n",
    "        caps = caps + [len(word)]\n",
    "    else:\n",
    "        caps = caps + [len(word)]\n",
    "        \n",
    "    for i in range(len(caps)-1):\n",
    "        if word[caps[i]:caps[i+1]].lower() in word_bank:\n",
    "            ans.append(True)\n",
    "        else: \n",
    "            ans.append(False)\n",
    "    \n",
    "    return False not in ans\n",
    "    \n",
    "camel(word5)        \n",
    "    "
   ]
  },
  {
   "cell_type": "code",
   "execution_count": 135,
   "metadata": {},
   "outputs": [
    {
     "data": {
      "text/plain": [
       "[1, 0, 1, 0, 0, 0, 1, 0]"
      ]
     },
     "execution_count": 135,
     "metadata": {},
     "output_type": "execute_result"
    }
   ],
   "source": [
    "word = 'IsAbleBe'\n",
    "caps = []\n",
    "for x in word:\n",
    "    if x.isupper():\n",
    "        caps.append(1)\n",
    "    else:\n",
    "        caps.append(0)\n",
    "caps       "
   ]
  },
  {
   "cell_type": "code",
   "execution_count": 136,
   "metadata": {},
   "outputs": [
    {
     "name": "stdout",
     "output_type": "stream",
     "text": [
      "-1\n",
      "-1\n",
      "-1\n",
      "1\n"
     ]
    }
   ],
   "source": [
    "# interview 2021-09-29 FB data engineering role\n",
    "\n",
    "def first_smallest(arr = [2, 3, 5, 0, 1, -3]):\n",
    "    if (arr is None) or (len(arr) == 0):\n",
    "        return -1\n",
    "    \n",
    "    ans = set()\n",
    "    \n",
    "    for num in arr:\n",
    "        if (num not in ans) and (num > 0):\n",
    "            ans.add(num)\n",
    "    \n",
    "    for check_num in range(1, max(ans)+1):\n",
    "        if (check_num not in ans) and (check_num != max(ans)):\n",
    "            return check_num\n",
    "        elif (check_num == max(ans)):\n",
    "            return -1\n",
    "        \n",
    "print(first_smallest(arr = None))\n",
    "print(first_smallest(arr = [2, 3, 0, 1, -3]))\n",
    "print(first_smallest(arr = []))\n",
    "print(first_smallest(arr = [3, 4, -1]))"
   ]
  },
  {
   "cell_type": "code",
   "execution_count": null,
   "metadata": {},
   "outputs": [],
   "source": []
  },
  {
   "cell_type": "code",
   "execution_count": null,
   "metadata": {},
   "outputs": [],
   "source": []
  },
  {
   "cell_type": "code",
   "execution_count": null,
   "metadata": {},
   "outputs": [],
   "source": []
  },
  {
   "cell_type": "code",
   "execution_count": null,
   "metadata": {},
   "outputs": [],
   "source": []
  },
  {
   "cell_type": "code",
   "execution_count": null,
   "metadata": {},
   "outputs": [],
   "source": []
  },
  {
   "cell_type": "code",
   "execution_count": null,
   "metadata": {},
   "outputs": [],
   "source": []
  },
  {
   "cell_type": "code",
   "execution_count": null,
   "metadata": {},
   "outputs": [],
   "source": []
  },
  {
   "cell_type": "code",
   "execution_count": null,
   "metadata": {},
   "outputs": [],
   "source": []
  }
 ],
 "metadata": {
  "kernelspec": {
   "display_name": "Python 3",
   "language": "python",
   "name": "python3"
  },
  "language_info": {
   "codemirror_mode": {
    "name": "ipython",
    "version": 3
   },
   "file_extension": ".py",
   "mimetype": "text/x-python",
   "name": "python",
   "nbconvert_exporter": "python",
   "pygments_lexer": "ipython3",
   "version": "3.8.10"
  }
 },
 "nbformat": 4,
 "nbformat_minor": 4
}
