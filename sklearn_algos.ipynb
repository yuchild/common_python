{
 "cells": [
  {
   "cell_type": "code",
   "execution_count": 2,
   "metadata": {},
   "outputs": [],
   "source": [
    "import pandas as pd"
   ]
  },
  {
   "cell_type": "code",
   "execution_count": 4,
   "metadata": {},
   "outputs": [
    {
     "data": {
      "text/html": [
       "<div>\n",
       "<style scoped>\n",
       "    .dataframe tbody tr th:only-of-type {\n",
       "        vertical-align: middle;\n",
       "    }\n",
       "\n",
       "    .dataframe tbody tr th {\n",
       "        vertical-align: top;\n",
       "    }\n",
       "\n",
       "    .dataframe thead th {\n",
       "        text-align: right;\n",
       "    }\n",
       "</style>\n",
       "<table border=\"1\" class=\"dataframe\">\n",
       "  <thead>\n",
       "    <tr style=\"text-align: right;\">\n",
       "      <th></th>\n",
       "      <th>Order Date</th>\n",
       "      <th>Row ID</th>\n",
       "      <th>Order ID</th>\n",
       "      <th>Ship Mode</th>\n",
       "      <th>Customer ID</th>\n",
       "      <th>Segment</th>\n",
       "      <th>Country</th>\n",
       "      <th>City</th>\n",
       "      <th>State</th>\n",
       "      <th>Postal Code</th>\n",
       "      <th>Region</th>\n",
       "      <th>Product ID</th>\n",
       "      <th>Category</th>\n",
       "      <th>Sub-Category</th>\n",
       "      <th>Product Name</th>\n",
       "      <th>Sales</th>\n",
       "      <th>Quantity</th>\n",
       "      <th>Discount</th>\n",
       "      <th>Profit</th>\n",
       "    </tr>\n",
       "  </thead>\n",
       "  <tbody>\n",
       "    <tr>\n",
       "      <th>200</th>\n",
       "      <td>13-02-20</td>\n",
       "      <td>7119</td>\n",
       "      <td>CA-2017-104906</td>\n",
       "      <td>Standard Class</td>\n",
       "      <td>JP-15460</td>\n",
       "      <td>Corporate</td>\n",
       "      <td>United States</td>\n",
       "      <td>New York City</td>\n",
       "      <td>New York</td>\n",
       "      <td>10009</td>\n",
       "      <td>East</td>\n",
       "      <td>OFF-PA-10001184</td>\n",
       "      <td>Office Supplies</td>\n",
       "      <td>Paper</td>\n",
       "      <td>Xerox 1903</td>\n",
       "      <td>17.94</td>\n",
       "      <td>3</td>\n",
       "      <td>0.0</td>\n",
       "      <td>8.7906</td>\n",
       "    </tr>\n",
       "    <tr>\n",
       "      <th>3206</th>\n",
       "      <td>22-12-20</td>\n",
       "      <td>8178</td>\n",
       "      <td>CA-2017-149699</td>\n",
       "      <td>First Class</td>\n",
       "      <td>CM-12115</td>\n",
       "      <td>Consumer</td>\n",
       "      <td>United States</td>\n",
       "      <td>Los Angeles</td>\n",
       "      <td>California</td>\n",
       "      <td>90008</td>\n",
       "      <td>West</td>\n",
       "      <td>TEC-AC-10000474</td>\n",
       "      <td>Technology</td>\n",
       "      <td>Accessories</td>\n",
       "      <td>Kensington Expert Mouse Optical USB Trackball ...</td>\n",
       "      <td>474.95</td>\n",
       "      <td>5</td>\n",
       "      <td>0.0</td>\n",
       "      <td>142.4850</td>\n",
       "    </tr>\n",
       "    <tr>\n",
       "      <th>55</th>\n",
       "      <td>14-01-20</td>\n",
       "      <td>9866</td>\n",
       "      <td>CA-2017-113278</td>\n",
       "      <td>Standard Class</td>\n",
       "      <td>HR-14770</td>\n",
       "      <td>Home Office</td>\n",
       "      <td>United States</td>\n",
       "      <td>Richmond</td>\n",
       "      <td>Indiana</td>\n",
       "      <td>47374</td>\n",
       "      <td>Central</td>\n",
       "      <td>FUR-FU-10001037</td>\n",
       "      <td>Furniture</td>\n",
       "      <td>Furnishings</td>\n",
       "      <td>DAX Charcoal/Nickel-Tone Document Frame, 5 x 7</td>\n",
       "      <td>18.96</td>\n",
       "      <td>2</td>\n",
       "      <td>0.0</td>\n",
       "      <td>8.5320</td>\n",
       "    </tr>\n",
       "    <tr>\n",
       "      <th>2710</th>\n",
       "      <td>20-11-20</td>\n",
       "      <td>2072</td>\n",
       "      <td>US-2017-110996</td>\n",
       "      <td>Standard Class</td>\n",
       "      <td>KA-16525</td>\n",
       "      <td>Consumer</td>\n",
       "      <td>United States</td>\n",
       "      <td>Ontario</td>\n",
       "      <td>California</td>\n",
       "      <td>91761</td>\n",
       "      <td>West</td>\n",
       "      <td>FUR-CH-10003956</td>\n",
       "      <td>Furniture</td>\n",
       "      <td>Chairs</td>\n",
       "      <td>Novimex High-Tech Fabric Mesh Task Chair</td>\n",
       "      <td>283.92</td>\n",
       "      <td>5</td>\n",
       "      <td>0.2</td>\n",
       "      <td>-46.1370</td>\n",
       "    </tr>\n",
       "    <tr>\n",
       "      <th>785</th>\n",
       "      <td>12-05-20</td>\n",
       "      <td>5822</td>\n",
       "      <td>CA-2017-117632</td>\n",
       "      <td>Standard Class</td>\n",
       "      <td>CS-12175</td>\n",
       "      <td>Corporate</td>\n",
       "      <td>United States</td>\n",
       "      <td>San Francisco</td>\n",
       "      <td>California</td>\n",
       "      <td>94122</td>\n",
       "      <td>West</td>\n",
       "      <td>OFF-AP-10004868</td>\n",
       "      <td>Office Supplies</td>\n",
       "      <td>Appliances</td>\n",
       "      <td>Hoover Commercial Soft Guard Upright Vacuum An...</td>\n",
       "      <td>7.77</td>\n",
       "      <td>1</td>\n",
       "      <td>0.0</td>\n",
       "      <td>2.0979</td>\n",
       "    </tr>\n",
       "  </tbody>\n",
       "</table>\n",
       "</div>"
      ],
      "text/plain": [
       "     Order Date  Row ID        Order ID       Ship Mode Customer ID  \\\n",
       "200    13-02-20    7119  CA-2017-104906  Standard Class    JP-15460   \n",
       "3206   22-12-20    8178  CA-2017-149699     First Class    CM-12115   \n",
       "55     14-01-20    9866  CA-2017-113278  Standard Class    HR-14770   \n",
       "2710   20-11-20    2072  US-2017-110996  Standard Class    KA-16525   \n",
       "785    12-05-20    5822  CA-2017-117632  Standard Class    CS-12175   \n",
       "\n",
       "          Segment        Country           City       State  Postal Code  \\\n",
       "200     Corporate  United States  New York City    New York        10009   \n",
       "3206     Consumer  United States    Los Angeles  California        90008   \n",
       "55    Home Office  United States       Richmond     Indiana        47374   \n",
       "2710     Consumer  United States        Ontario  California        91761   \n",
       "785     Corporate  United States  San Francisco  California        94122   \n",
       "\n",
       "       Region       Product ID         Category Sub-Category  \\\n",
       "200      East  OFF-PA-10001184  Office Supplies        Paper   \n",
       "3206     West  TEC-AC-10000474       Technology  Accessories   \n",
       "55    Central  FUR-FU-10001037        Furniture  Furnishings   \n",
       "2710     West  FUR-CH-10003956        Furniture       Chairs   \n",
       "785      West  OFF-AP-10004868  Office Supplies   Appliances   \n",
       "\n",
       "                                           Product Name   Sales  Quantity  \\\n",
       "200                                          Xerox 1903   17.94         3   \n",
       "3206  Kensington Expert Mouse Optical USB Trackball ...  474.95         5   \n",
       "55       DAX Charcoal/Nickel-Tone Document Frame, 5 x 7   18.96         2   \n",
       "2710           Novimex High-Tech Fabric Mesh Task Chair  283.92         5   \n",
       "785   Hoover Commercial Soft Guard Upright Vacuum An...    7.77         1   \n",
       "\n",
       "      Discount    Profit  \n",
       "200        0.0    8.7906  \n",
       "3206       0.0  142.4850  \n",
       "55         0.0    8.5320  \n",
       "2710       0.2  -46.1370  \n",
       "785        0.0    2.0979  "
      ]
     },
     "execution_count": 4,
     "metadata": {},
     "output_type": "execute_result"
    }
   ],
   "source": [
    "df = pd.read_csv('./data/us_econ_2020.csv')\n",
    "df.sample(5)"
   ]
  },
  {
   "cell_type": "code",
   "execution_count": 5,
   "metadata": {},
   "outputs": [
    {
     "data": {
      "text/plain": [
       "(3312, 19)"
      ]
     },
     "execution_count": 5,
     "metadata": {},
     "output_type": "execute_result"
    }
   ],
   "source": [
    "df.shape"
   ]
  },
  {
   "cell_type": "code",
   "execution_count": 6,
   "metadata": {},
   "outputs": [
    {
     "data": {
      "text/plain": [
       "Index(['Order Date', 'Row ID', 'Order ID', 'Ship Mode', 'Customer ID',\n",
       "       'Segment', 'Country', 'City', 'State', 'Postal Code', 'Region',\n",
       "       'Product ID', 'Category', 'Sub-Category', 'Product Name', 'Sales',\n",
       "       'Quantity', 'Discount', 'Profit'],\n",
       "      dtype='object')"
      ]
     },
     "execution_count": 6,
     "metadata": {},
     "output_type": "execute_result"
    }
   ],
   "source": [
    "df.columns"
   ]
  },
  {
   "cell_type": "code",
   "execution_count": 9,
   "metadata": {},
   "outputs": [
    {
     "data": {
      "text/plain": [
       "Order Date             14-01-20\n",
       "Row ID                     4911\n",
       "Order ID         CA-2017-127306\n",
       "Ship Mode        Standard Class\n",
       "Customer ID            BH-11710\n",
       "Segment                Consumer\n",
       "Country           United States\n",
       "City               Johnson City\n",
       "State                 Tennessee\n",
       "Postal Code               37604\n",
       "Region                    South\n",
       "Product ID      OFF-PA-10000019\n",
       "Category        Office Supplies\n",
       "Sub-Category              Paper\n",
       "Product Name         Xerox 1931\n",
       "Sales                    36.288\n",
       "Quantity                      7\n",
       "Discount                    0.2\n",
       "Profit                  12.7008\n",
       "Name: 43, dtype: object"
      ]
     },
     "execution_count": 9,
     "metadata": {},
     "output_type": "execute_result"
    }
   ],
   "source": [
    "df.iloc[43]"
   ]
  },
  {
   "cell_type": "code",
   "execution_count": null,
   "metadata": {},
   "outputs": [],
   "source": []
  }
 ],
 "metadata": {
  "kernelspec": {
   "display_name": "Python 3",
   "language": "python",
   "name": "python3"
  },
  "language_info": {
   "codemirror_mode": {
    "name": "ipython",
    "version": 3
   },
   "file_extension": ".py",
   "mimetype": "text/x-python",
   "name": "python",
   "nbconvert_exporter": "python",
   "pygments_lexer": "ipython3",
   "version": "3.8.10"
  }
 },
 "nbformat": 4,
 "nbformat_minor": 4
}
