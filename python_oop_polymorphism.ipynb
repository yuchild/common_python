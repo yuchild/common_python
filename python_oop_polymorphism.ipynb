{
 "cells": [
  {
   "cell_type": "code",
   "execution_count": 1,
   "metadata": {},
   "outputs": [],
   "source": [
    "# from: https://www.programiz.com/python-programming/polymorphism"
   ]
  },
  {
   "cell_type": "code",
   "execution_count": 2,
   "metadata": {},
   "outputs": [
    {
     "name": "stdout",
     "output_type": "stream",
     "text": [
      "14\n",
      "abcdef\n"
     ]
    }
   ],
   "source": [
    "# polymorphism are operators/classes/methods that can \n",
    "# take on more than one useage, e.g. \"+\" operator\n",
    "\n",
    "print(5 + 9)\n",
    "print('abc' + 'def')"
   ]
  },
  {
   "cell_type": "code",
   "execution_count": 3,
   "metadata": {},
   "outputs": [
    {
     "name": "stdout",
     "output_type": "stream",
     "text": [
      "6\n",
      "4\n",
      "3\n"
     ]
    }
   ],
   "source": [
    "# the len() function is another polymorphic example\n",
    "print(len('abcdef'))\n",
    "print(len(['a', 'b', 'c', 'd']))\n",
    "print(len({'a': 1, 'b': 2, 'c': 3}))"
   ]
  },
  {
   "cell_type": "code",
   "execution_count": 4,
   "metadata": {},
   "outputs": [
    {
     "name": "stdout",
     "output_type": "stream",
     "text": [
      "Meow\n",
      "I am a cat. My name is Kibbles. I am 3.5 years old.\n",
      "Meow\n",
      "\n",
      "\n",
      "Bark\n",
      "I am a dog. My name is Ralph. I am 5 years old\n",
      "Bark\n",
      "\n",
      "\n"
     ]
    }
   ],
   "source": [
    "# Polymorphism in Class Methods\n",
    "\n",
    "class cat:\n",
    "    def __init__(self, name, age):\n",
    "        self.name = name\n",
    "        self.age = age\n",
    "        \n",
    "    def info(self):\n",
    "        print(f'I am a cat. My name is {self.name}. I am {self.age} years old.')\n",
    "    \n",
    "    def make_sound(self):\n",
    "        print('Meow')\n",
    "        \n",
    "class dog:\n",
    "    def __init__(self, name, age):\n",
    "        self.name = name\n",
    "        self.age = age\n",
    "\n",
    "    def info(self):\n",
    "        print(f'I am a dog. My name is {self.name}. I am {self.age} years old')\n",
    "\n",
    "    def make_sound(self):\n",
    "        print('Bark')\n",
    "        \n",
    "cat1 = cat(\"Kibbles\", 3.5)\n",
    "dog1 = dog(\"Ralph\", 5)\n",
    "\n",
    "for animal in (cat1, dog1):\n",
    "    animal.make_sound()\n",
    "    animal.info()\n",
    "    animal.make_sound()\n",
    "    print(\"\\n\")"
   ]
  },
  {
   "cell_type": "code",
   "execution_count": 5,
   "metadata": {},
   "outputs": [],
   "source": [
    "# explanation of super().__init__()\n",
    "# https://www.youtube.com/watch?v=kDjJXi2V4Ss"
   ]
  },
  {
   "cell_type": "code",
   "execution_count": 6,
   "metadata": {},
   "outputs": [],
   "source": [
    "# child classes can inherit methods and attributes from parent class\n",
    "# to redefine methods and attributes to fit the child class known as \n",
    "# METHOD OVERRIDING\n",
    "# Polymorphism allows us to access these orriden methods and atttributes\n",
    "# that have the same name as the parent class\n",
    "\n",
    "from math import pi\n",
    "\n",
    "class shape:\n",
    "    def __init__(self, name):\n",
    "        self.name = name\n",
    "        \n",
    "    def area(self):\n",
    "        ...\n",
    "        \n",
    "    def fact(self):\n",
    "        return \"I am a 2-D shape.\"\n",
    "    \n",
    "    def __str__(self):\n",
    "        return self.name\n",
    "    \n",
    "class square(shape):\n",
    "    def __init__(self, length):\n",
    "        super().__init__('square')\n",
    "        self.length = length\n",
    "    \n",
    "    def area(self):\n",
    "        return self.length ** 2\n",
    "    \n",
    "    def fact(self):\n",
    "        return \"Each angle of a square is 90 degrees.\"\n",
    "    \n",
    "class circle(shape):\n",
    "    def __init__(self, radius):\n",
    "        super().__init__('circle')\n",
    "        self.radius = radius\n",
    "    \n",
    "    def area(self):\n",
    "        return pi * self.radius ** 2\n",
    "        "
   ]
  },
  {
   "cell_type": "code",
   "execution_count": 7,
   "metadata": {},
   "outputs": [
    {
     "name": "stdout",
     "output_type": "stream",
     "text": [
      "circle\n",
      "I am a 2-D shape.\n",
      "Each angle of a square is 90 degrees.\n",
      "16\n",
      "153.93804002589985\n"
     ]
    }
   ],
   "source": [
    "square1 = square(4)\n",
    "circle1 = circle(7)\n",
    "\n",
    "print(circle1)\n",
    "print(circle1.fact())\n",
    "print(square1.fact())\n",
    "print(square1.area())\n",
    "print(circle1.area())"
   ]
  },
  {
   "cell_type": "code",
   "execution_count": null,
   "metadata": {},
   "outputs": [],
   "source": []
  }
 ],
 "metadata": {
  "kernelspec": {
   "display_name": "Python 3",
   "language": "python",
   "name": "python3"
  },
  "language_info": {
   "codemirror_mode": {
    "name": "ipython",
    "version": 3
   },
   "file_extension": ".py",
   "mimetype": "text/x-python",
   "name": "python",
   "nbconvert_exporter": "python",
   "pygments_lexer": "ipython3",
   "version": "3.8.5"
  }
 },
 "nbformat": 4,
 "nbformat_minor": 4
}
